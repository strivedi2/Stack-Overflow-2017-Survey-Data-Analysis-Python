{
 "cells": [
  {
   "cell_type": "markdown",
   "metadata": {},
   "source": [
    "# Stackoverflow Survey Data 2017: Insights"
   ]
  },
  {
   "cell_type": "code",
   "execution_count": 1,
   "metadata": {},
   "outputs": [],
   "source": [
    "import pandas as pd\n",
    "import numpy as np\n",
    "\n",
    "# print all the outputs in a cell\n",
    "from IPython.core.interactiveshell import InteractiveShell\n",
    "InteractiveShell.ast_node_interactivity = \"all\"\n",
    "\n",
    "import warnings\n",
    "warnings.filterwarnings(\"ignore\")"
   ]
  },
  {
   "cell_type": "code",
   "execution_count": 2,
   "metadata": {},
   "outputs": [
    {
     "name": "stdout",
     "output_type": "stream",
     "text": [
      "Populating the interactive namespace from numpy and matplotlib\n"
     ]
    }
   ],
   "source": [
    "import seaborn as sns\n",
    "%pylab inline\n",
    "\n",
    "import sklearn as sk\n",
    "import sklearn.tree as tree\n",
    "from IPython.display import Image  \n",
    "import pydotplus"
   ]
  },
  {
   "cell_type": "code",
   "execution_count": 3,
   "metadata": {},
   "outputs": [
    {
     "data": {
      "application/javascript": [
       "IPython.notebook.set_autosave_interval(0)"
      ]
     },
     "metadata": {},
     "output_type": "display_data"
    },
    {
     "name": "stdout",
     "output_type": "stream",
     "text": [
      "Autosave disabled\n"
     ]
    }
   ],
   "source": [
    "%autosave 0"
   ]
  },
  {
   "cell_type": "code",
   "execution_count": 4,
   "metadata": {},
   "outputs": [],
   "source": [
    "pd.set_option('display.max_columns',200)\n",
    "pd.set_option('display.max_rows',200)\n",
    "pd.set_option('display.max_colwidth', -1)"
   ]
  },
  {
   "cell_type": "markdown",
   "metadata": {},
   "source": [
    "<div class=\"alert alert-block alert-info\">\n",
    "# Introduction to the DataSet"
   ]
  },
  {
   "cell_type": "markdown",
   "metadata": {},
   "source": [
    "<b>Stackoverflow hosts the world's largest community of professional software developers. </b>\n",
    "\n",
    "Every year, it conducts a massive survey of users on it's website, covering all sorts of information: \n",
    "<ul><b>\n",
    "    <li>educational background, \n",
    "    <li>demographic data, \n",
    "    <li>nature of the organization where they are working/ studying , \n",
    "    <li>job role and languages they are working on and aspire to work on,\n",
    "    <li>self learning \n",
    "    <li>preferences for potential jobs \n",
    "    <li>important metrics for hiring other developers...    \n",
    "    </b>\n",
    "</ul>\n",
    "This dataset is taken from the survey conducted in 2017. Each row corresponds to one respondent. The survey comprised of 153 questions. List of questions is mentioned below."
   ]
  },
  {
   "cell_type": "code",
   "execution_count": 5,
   "metadata": {},
   "outputs": [],
   "source": [
    "Introduction = pd.read_csv('survey_results_schema.csv',index_col =0)"
   ]
  },
  {
   "cell_type": "code",
   "execution_count": 6,
   "metadata": {},
   "outputs": [],
   "source": [
    "Introduction.drop(labels=['ProgramHobby','YearsCodedJobPast','ExCoderReturn','ExCoderNotForMe','ExCoderBalance','ExCoder10Years',\\\n",
    "                 'ExCoderBelonged','ExCoderSkills','ExCoderWillNotCode','ExCoderActive','ClickyKeys',\\\n",
    "                'Overpaid','TimeAfterBootcamp','VersionControl','CheckInCode','ShipIt','OtherPeoplesCode',\\\n",
    "                'OtherPeoplesCode','ProjectManagement','EnjoyDebugging','InTheZone','DifficultCommunication',\\\n",
    "                'StackOverflowModeration','StackOverflowCommunity','StackOverflowHelpful','StackOverflowBetter',\\\n",
    "                'StackOverflowWhatDo','StackOverflowMakeMoney','SurveyLong','QuestionsInteresting',\\\n",
    "                 'QuestionsConfusing','InterestedAnswers','ExpectedSalary','PronounceGIF','TabsSpaces','IDE',\\\n",
    "                'Methodology','Currency','HaveWorkedFramework','WantWorkFramework',\\\n",
    "                'HaveWorkedDatabase','WantWorkDatabase','WantWorkPlatform','MobileDeveloperType','WebDeveloperType',\\\n",
    "                'EquipmentSatisfiedMonitors','EquipmentSatisfiedCPU','EquipmentSatisfiedRAM','EquipmentSatisfiedStorage',\\\n",
    "                 'EquipmentSatisfiedRW','InfluenceInternet','InfluenceWorkstation','InfluenceHardware','InfluenceServers',\\\n",
    "                 'InfluenceTechStack','InfluenceDeptTech','InfluenceVizTools','InfluenceDatabase','InfluenceCloud',\\\n",
    "                 'InfluenceConsultants','InfluenceRecruitment','InfluenceCommunication'],inplace=True)"
   ]
  },
  {
   "cell_type": "code",
   "execution_count": 7,
   "metadata": {},
   "outputs": [
    {
     "data": {
      "text/html": [
       "<div>\n",
       "<style scoped>\n",
       "    .dataframe tbody tr th:only-of-type {\n",
       "        vertical-align: middle;\n",
       "    }\n",
       "\n",
       "    .dataframe tbody tr th {\n",
       "        vertical-align: top;\n",
       "    }\n",
       "\n",
       "    .dataframe thead th {\n",
       "        text-align: right;\n",
       "    }\n",
       "</style>\n",
       "<table border=\"1\" class=\"dataframe\">\n",
       "  <thead>\n",
       "    <tr style=\"text-align: right;\">\n",
       "      <th></th>\n",
       "      <th>Question</th>\n",
       "    </tr>\n",
       "    <tr>\n",
       "      <th>Column</th>\n",
       "      <th></th>\n",
       "    </tr>\n",
       "  </thead>\n",
       "  <tbody>\n",
       "    <tr>\n",
       "      <th>Respondent</th>\n",
       "      <td>Respondent ID number</td>\n",
       "    </tr>\n",
       "    <tr>\n",
       "      <th>Professional</th>\n",
       "      <td>Which of the following best describes you?</td>\n",
       "    </tr>\n",
       "    <tr>\n",
       "      <th>Country</th>\n",
       "      <td>In which country do you currently live?</td>\n",
       "    </tr>\n",
       "    <tr>\n",
       "      <th>University</th>\n",
       "      <td>Are you currently enrolled in a formal, degree-granting college or university program?</td>\n",
       "    </tr>\n",
       "    <tr>\n",
       "      <th>EmploymentStatus</th>\n",
       "      <td>Which of the following best describes your current employment status?</td>\n",
       "    </tr>\n",
       "    <tr>\n",
       "      <th>FormalEducation</th>\n",
       "      <td>Which of the following best describes the highest level of formal education that you've completed?</td>\n",
       "    </tr>\n",
       "    <tr>\n",
       "      <th>MajorUndergrad</th>\n",
       "      <td>Which of the following best describes your main field of study (aka 'major') in college or university/for your undergraduate studies?</td>\n",
       "    </tr>\n",
       "    <tr>\n",
       "      <th>HomeRemote</th>\n",
       "      <td>How often do you work from home or remotely?</td>\n",
       "    </tr>\n",
       "    <tr>\n",
       "      <th>CompanySize</th>\n",
       "      <td>In terms of the number of employees, how large is the company or organization you work for?</td>\n",
       "    </tr>\n",
       "    <tr>\n",
       "      <th>CompanyType</th>\n",
       "      <td>Which of the following best describes the type of company or organization you work for?</td>\n",
       "    </tr>\n",
       "    <tr>\n",
       "      <th>YearsProgram</th>\n",
       "      <td>How long has it been since you first learned how to program?</td>\n",
       "    </tr>\n",
       "    <tr>\n",
       "      <th>YearsCodedJob</th>\n",
       "      <td>For how many years have you coded as part of your job?</td>\n",
       "    </tr>\n",
       "    <tr>\n",
       "      <th>DeveloperType</th>\n",
       "      <td>Which of the following best describe you?</td>\n",
       "    </tr>\n",
       "    <tr>\n",
       "      <th>NonDeveloperType</th>\n",
       "      <td>Which of the following describe you?</td>\n",
       "    </tr>\n",
       "    <tr>\n",
       "      <th>CareerSatisfaction</th>\n",
       "      <td>Career satisfaction rating</td>\n",
       "    </tr>\n",
       "    <tr>\n",
       "      <th>JobSatisfaction</th>\n",
       "      <td>Job satisfaction rating</td>\n",
       "    </tr>\n",
       "    <tr>\n",
       "      <th>ProblemSolving</th>\n",
       "      <td>I love solving problems</td>\n",
       "    </tr>\n",
       "    <tr>\n",
       "      <th>BuildingThings</th>\n",
       "      <td>Building things is very rewarding</td>\n",
       "    </tr>\n",
       "    <tr>\n",
       "      <th>LearningNewTech</th>\n",
       "      <td>Learning new technologies is fun</td>\n",
       "    </tr>\n",
       "    <tr>\n",
       "      <th>BoringDetails</th>\n",
       "      <td>I tend to get bored by implementation details</td>\n",
       "    </tr>\n",
       "    <tr>\n",
       "      <th>JobSecurity</th>\n",
       "      <td>Job security is important to me</td>\n",
       "    </tr>\n",
       "    <tr>\n",
       "      <th>DiversityImportant</th>\n",
       "      <td>Diversity in the workplace is important</td>\n",
       "    </tr>\n",
       "    <tr>\n",
       "      <th>AnnoyingUI</th>\n",
       "      <td>It annoys me when software has a poor UI</td>\n",
       "    </tr>\n",
       "    <tr>\n",
       "      <th>FriendsDevelopers</th>\n",
       "      <td>Most of my friends are developers, engineers, or scientists</td>\n",
       "    </tr>\n",
       "    <tr>\n",
       "      <th>RightWrongWay</th>\n",
       "      <td>There's a right and a wrong way to do everything</td>\n",
       "    </tr>\n",
       "    <tr>\n",
       "      <th>UnderstandComputers</th>\n",
       "      <td>Honestly, there's a lot about computers that I just don't understand</td>\n",
       "    </tr>\n",
       "    <tr>\n",
       "      <th>SeriousWork</th>\n",
       "      <td>I take my work very seriously</td>\n",
       "    </tr>\n",
       "    <tr>\n",
       "      <th>InvestTimeTools</th>\n",
       "      <td>I invest a lot of time into the tools I use</td>\n",
       "    </tr>\n",
       "    <tr>\n",
       "      <th>WorkPayCare</th>\n",
       "      <td>I don't really care what I work on, so long as I'm paid well</td>\n",
       "    </tr>\n",
       "    <tr>\n",
       "      <th>KinshipDevelopers</th>\n",
       "      <td>I feel a sense of kinship to other developers</td>\n",
       "    </tr>\n",
       "    <tr>\n",
       "      <th>ChallengeMyself</th>\n",
       "      <td>I like to challenge myself</td>\n",
       "    </tr>\n",
       "    <tr>\n",
       "      <th>CompetePeers</th>\n",
       "      <td>I think of myself as competing with my peers</td>\n",
       "    </tr>\n",
       "    <tr>\n",
       "      <th>ChangeWorld</th>\n",
       "      <td>I want to change the world</td>\n",
       "    </tr>\n",
       "    <tr>\n",
       "      <th>JobSeekingStatus</th>\n",
       "      <td>Which of the following best describes your current job-seeking status?</td>\n",
       "    </tr>\n",
       "    <tr>\n",
       "      <th>HoursPerWeek</th>\n",
       "      <td>During a typical week, approximately how many hours do you spend on activities related to finding new job opportunities?Please adjust the slider to the appropriate number of hours. The box to the right will indicate the number of hours you have chosen.</td>\n",
       "    </tr>\n",
       "    <tr>\n",
       "      <th>LastNewJob</th>\n",
       "      <td>When was the last time that you took a job with a new employer?</td>\n",
       "    </tr>\n",
       "    <tr>\n",
       "      <th>AssessJobIndustry</th>\n",
       "      <td>When you're assessing potential jobs to apply to, how important are each of the following to you? The industry that I'd be working in</td>\n",
       "    </tr>\n",
       "    <tr>\n",
       "      <th>AssessJobRole</th>\n",
       "      <td>When you're assessing potential jobs to apply to, how important are each of the following to you? The specific role or job title I'd be applying for</td>\n",
       "    </tr>\n",
       "    <tr>\n",
       "      <th>AssessJobExp</th>\n",
       "      <td>When you're assessing potential jobs to apply to, how important are each of the following to you? The experience level called for in the job description</td>\n",
       "    </tr>\n",
       "    <tr>\n",
       "      <th>AssessJobDept</th>\n",
       "      <td>When you're assessing potential jobs to apply to, how important are each of the following to you? The specific department or team I'd be working on</td>\n",
       "    </tr>\n",
       "    <tr>\n",
       "      <th>AssessJobTech</th>\n",
       "      <td>When you're assessing potential jobs to apply to, how important are each of the following to you? The languages, frameworks, and other technologies I'd be working with</td>\n",
       "    </tr>\n",
       "    <tr>\n",
       "      <th>AssessJobProjects</th>\n",
       "      <td>When you're assessing potential jobs to apply to, how important are each of the following to you? How projects are managed at the company or organization</td>\n",
       "    </tr>\n",
       "    <tr>\n",
       "      <th>AssessJobCompensation</th>\n",
       "      <td>When you're assessing potential jobs to apply to, how important are each of the following to you? The compensation and benefits offered</td>\n",
       "    </tr>\n",
       "    <tr>\n",
       "      <th>AssessJobOffice</th>\n",
       "      <td>When you're assessing potential jobs to apply to, how important are each of the following to you? The office environment I'd be working in</td>\n",
       "    </tr>\n",
       "    <tr>\n",
       "      <th>AssessJobCommute</th>\n",
       "      <td>When you're assessing potential jobs to apply to, how important are each of the following to you? The amount of time I'd have to spend commuting</td>\n",
       "    </tr>\n",
       "    <tr>\n",
       "      <th>AssessJobRemote</th>\n",
       "      <td>When you're assessing potential jobs to apply to, how important are each of the following to you? The opportunity to work from home/remotely</td>\n",
       "    </tr>\n",
       "    <tr>\n",
       "      <th>AssessJobLeaders</th>\n",
       "      <td>When you're assessing potential jobs to apply to, how important are each of the following to you? The reputations of the company's senior leaders</td>\n",
       "    </tr>\n",
       "    <tr>\n",
       "      <th>AssessJobProfDevel</th>\n",
       "      <td>When you're assessing potential jobs to apply to, how important are each of the following to you? Opportunities for professional development</td>\n",
       "    </tr>\n",
       "    <tr>\n",
       "      <th>AssessJobDiversity</th>\n",
       "      <td>When you're assessing potential jobs to apply to, how important are each of the following to you? The diversity of the company or organization</td>\n",
       "    </tr>\n",
       "    <tr>\n",
       "      <th>AssessJobProduct</th>\n",
       "      <td>When you're assessing potential jobs to apply to, how important are each of the following to you? How widely used or impactful the product or service I'd be working on is</td>\n",
       "    </tr>\n",
       "    <tr>\n",
       "      <th>AssessJobFinances</th>\n",
       "      <td>When you're assessing potential jobs to apply to, how important are each of the following to you? The financial performance or funding status of the company or organization</td>\n",
       "    </tr>\n",
       "    <tr>\n",
       "      <th>ImportantBenefits</th>\n",
       "      <td>When it comes to compensation and benefits, other than base salary, which of the following are most important to you?</td>\n",
       "    </tr>\n",
       "    <tr>\n",
       "      <th>JobProfile</th>\n",
       "      <td>On which of the following sites do you maintain a profile, CV, or resumé?</td>\n",
       "    </tr>\n",
       "    <tr>\n",
       "      <th>ResumePrompted</th>\n",
       "      <td>Think back to the last time you updated your resumé, CV, or an online profile on a job site. What prompted you to do so?</td>\n",
       "    </tr>\n",
       "    <tr>\n",
       "      <th>LearnedHiring</th>\n",
       "      <td>Think back to when you first applied to work for your current employer. Which of the following best describes how you learned that they were hiring for that particular job?</td>\n",
       "    </tr>\n",
       "    <tr>\n",
       "      <th>ImportantHiringAlgorithms</th>\n",
       "      <td>Congratulations! You've just been put in charge of technical recruiting at Globex, a multinational high- tech firm. This job comes with a corner office, and you have an experienced staff of recruiters at your disposal. They want to know what they should prioritize when recruiting software developers. How important should each of the following be in Globex's hiring process? Knowledge of algorithms and data structures</td>\n",
       "    </tr>\n",
       "    <tr>\n",
       "      <th>ImportantHiringTechExp</th>\n",
       "      <td>Congratulations! You've just been put in charge of technical recruiting at Globex, a multinational high- tech firm. This job comes with a corner office, and you have an experienced staff of recruiters at your disposal. They want to know what they should prioritize when recruiting software developers. How important should each of the following be in Globex's hiring process? Experience with specific tools (libraries, frameworks, etc.) used by the employer</td>\n",
       "    </tr>\n",
       "    <tr>\n",
       "      <th>ImportantHiringCommunication</th>\n",
       "      <td>Congratulations! You've just been put in charge of technical recruiting at Globex, a multinational high- tech firm. This job comes with a corner office, and you have an experienced staff of recruiters at your disposal. They want to know what they should prioritize when recruiting software developers. How important should each of the following be in Globex's hiring process? Communication skills</td>\n",
       "    </tr>\n",
       "    <tr>\n",
       "      <th>ImportantHiringOpenSource</th>\n",
       "      <td>Congratulations! You've just been put in charge of technical recruiting at Globex, a multinational high- tech firm. This job comes with a corner office, and you have an experienced staff of recruiters at your disposal. They want to know what they should prioritize when recruiting software developers. How important should each of the following be in Globex's hiring process? Contributions to open source projects</td>\n",
       "    </tr>\n",
       "    <tr>\n",
       "      <th>ImportantHiringPMExp</th>\n",
       "      <td>Congratulations! You've just been put in charge of technical recruiting at Globex, a multinational high- tech firm. This job comes with a corner office, and you have an experienced staff of recruiters at your disposal. They want to know what they should prioritize when recruiting software developers. How important should each of the following be in Globex's hiring process? Experience with specific project management tools &amp; techniques</td>\n",
       "    </tr>\n",
       "    <tr>\n",
       "      <th>ImportantHiringCompanies</th>\n",
       "      <td>Congratulations! You've just been put in charge of technical recruiting at Globex, a multinational high- tech firm. This job comes with a corner office, and you have an experienced staff of recruiters at your disposal. They want to know what they should prioritize when recruiting software developers. How important should each of the following be in Globex's hiring process? Previous companies worked at</td>\n",
       "    </tr>\n",
       "    <tr>\n",
       "      <th>ImportantHiringTitles</th>\n",
       "      <td>Congratulations! You've just been put in charge of technical recruiting at Globex, a multinational high- tech firm. This job comes with a corner office, and you have an experienced staff of recruiters at your disposal. They want to know what they should prioritize when recruiting software developers. How important should each of the following be in Globex's hiring process? Previous job titles held</td>\n",
       "    </tr>\n",
       "    <tr>\n",
       "      <th>ImportantHiringEducation</th>\n",
       "      <td>Congratulations! You've just been put in charge of technical recruiting at Globex, a multinational high- tech firm. This job comes with a corner office, and you have an experienced staff of recruiters at your disposal. They want to know what they should prioritize when recruiting software developers. How important should each of the following be in Globex's hiring process? Educational credentials (e.g. schools attended, specific field of study, grades earned)</td>\n",
       "    </tr>\n",
       "    <tr>\n",
       "      <th>ImportantHiringRep</th>\n",
       "      <td>Congratulations! You've just been put in charge of technical recruiting at Globex, a multinational high- tech firm. This job comes with a corner office, and you have an experienced staff of recruiters at your disposal. They want to know what they should prioritize when recruiting software developers. How important should each of the following be in Globex's hiring process? Stack Overflow reputation</td>\n",
       "    </tr>\n",
       "    <tr>\n",
       "      <th>ImportantHiringGettingThingsDone</th>\n",
       "      <td>Congratulations! You've just been put in charge of technical recruiting at Globex, a multinational high- tech firm. This job comes with a corner office, and you have an experienced staff of recruiters at your disposal. They want to know what they should prioritize when recruiting software developers. How important should each of the following be in Globex's hiring process? Track record of getting things done</td>\n",
       "    </tr>\n",
       "    <tr>\n",
       "      <th>EducationImportant</th>\n",
       "      <td>Overall, how important has your formal schooling and education been to your career success?</td>\n",
       "    </tr>\n",
       "    <tr>\n",
       "      <th>EducationTypes</th>\n",
       "      <td>Outside of your formal schooling and education, which of the following have you done?</td>\n",
       "    </tr>\n",
       "    <tr>\n",
       "      <th>SelfTaughtTypes</th>\n",
       "      <td>You indicated that you had taught yourself a programming technology without taking a course. What resources did you use to do that? If you've done it more than once, please think about the most recent time you've done so.</td>\n",
       "    </tr>\n",
       "    <tr>\n",
       "      <th>CousinEducation</th>\n",
       "      <td>Let's pretend you have a distant cousin. They are 24 years old, have a college degree in a field not related to computer programming, and have been working a non-coding job for the last two years. They want your advice on how to switch to a career as a software developer. Which of the following options would you most strongly recommend to your cousin?\\nLet's pretend you have a distant cousin named Robert. He is 24 years old, has a college degree in a field not related to computer programming, and has been working a non-coding job for the last two years. He wants your advice on how to switch to a career as a software developer. Which of the following options would you most strongly recommend to Robert?\\nLet's pretend you have a distant cousin named Alice. She is 24 years old, has a college degree in a field not related to computer programming, and has been working a non-coding job for the last two years. She wants your advice on how to switch to a career as a software developer. Which of the following options would you most strongly recommend to Alice?</td>\n",
       "    </tr>\n",
       "    <tr>\n",
       "      <th>WorkStart</th>\n",
       "      <td>Suppose you could choose your own working hours for an 8-hour day. What time would you start work for the day? Please adjust the slider to the hour nearest your ideal start time. The box next to the slider will display your selection using a 24-hour clock</td>\n",
       "    </tr>\n",
       "    <tr>\n",
       "      <th>HaveWorkedLanguage</th>\n",
       "      <td>Which of the following languages have you done extensive development work in over the past year, and which do you want to work in over the next year?</td>\n",
       "    </tr>\n",
       "    <tr>\n",
       "      <th>WantWorkLanguage</th>\n",
       "      <td>Which of the following languages have you done extensive development work in over the past year, and which do you want to work in over the next year?</td>\n",
       "    </tr>\n",
       "    <tr>\n",
       "      <th>HaveWorkedPlatform</th>\n",
       "      <td>Which of the following platforms have you done extensive development work for over the past year, and which do you want to work on over the next year?</td>\n",
       "    </tr>\n",
       "    <tr>\n",
       "      <th>AuditoryEnvironment</th>\n",
       "      <td>Suppose you're about to start a few hours of coding and have complete control over your auditory environment (music, background noise, etc.). What would you do?</td>\n",
       "    </tr>\n",
       "    <tr>\n",
       "      <th>CollaborateRemote</th>\n",
       "      <td>It's harder to collaborate with remote peers than those on site</td>\n",
       "    </tr>\n",
       "    <tr>\n",
       "      <th>MetricAssess</th>\n",
       "      <td>Congratulations! The bosses at your new employer, E Corp, are allowing you to choose which metrics will be used to assess your individual performance in your role as a senior developer. Which metrics do you suggest to the E bosses?</td>\n",
       "    </tr>\n",
       "    <tr>\n",
       "      <th>StackOverflowDescribes</th>\n",
       "      <td>Which of the following best describes you?</td>\n",
       "    </tr>\n",
       "    <tr>\n",
       "      <th>StackOverflowSatisfaction</th>\n",
       "      <td>Stack Overflow satisfaction</td>\n",
       "    </tr>\n",
       "    <tr>\n",
       "      <th>StackOverflowDevices</th>\n",
       "      <td>Which of the following devices have you used to connect to Stack Overflow over the last three months?</td>\n",
       "    </tr>\n",
       "    <tr>\n",
       "      <th>StackOverflowFoundAnswer</th>\n",
       "      <td>Over the last three months, approximately how often have you done each of the following on Stack Overflow? Found an answer that solved my coding problem</td>\n",
       "    </tr>\n",
       "    <tr>\n",
       "      <th>StackOverflowCopiedCode</th>\n",
       "      <td>Over the last three months, approximately how often have you done each of the following on Stack Overflow? Copied a code example and pasted it into my codebase</td>\n",
       "    </tr>\n",
       "    <tr>\n",
       "      <th>StackOverflowJobListing</th>\n",
       "      <td>Over the last three months, approximately how often have you done each of the following on Stack Overflow? Seen a job listing I was interested in</td>\n",
       "    </tr>\n",
       "    <tr>\n",
       "      <th>StackOverflowCompanyPage</th>\n",
       "      <td>Over the last three months, approximately how often have you done each of the following on Stack Overflow? Researched a potential employer by visiting its company page</td>\n",
       "    </tr>\n",
       "    <tr>\n",
       "      <th>StackOverflowJobSearch</th>\n",
       "      <td>Over the last three months, approximately how often have you done each of the following on Stack Overflow? Searched for jobs</td>\n",
       "    </tr>\n",
       "    <tr>\n",
       "      <th>StackOverflowNewQuestion</th>\n",
       "      <td>Over the last three months, approximately how often have you done each of the following on Stack Overflow? Asked a new question</td>\n",
       "    </tr>\n",
       "    <tr>\n",
       "      <th>StackOverflowAnswer</th>\n",
       "      <td>Over the last three months, approximately how often have you done each of the following on Stack Overflow? Written a new answer to someone else's question</td>\n",
       "    </tr>\n",
       "    <tr>\n",
       "      <th>StackOverflowMetaChat</th>\n",
       "      <td>Over the last three months, approximately how often have you done each of the following on Stack Overflow? Participated in community discussions on meta or in chat</td>\n",
       "    </tr>\n",
       "    <tr>\n",
       "      <th>StackOverflowAdsRelevant</th>\n",
       "      <td>The ads on Stack Overflow are relevant to me</td>\n",
       "    </tr>\n",
       "    <tr>\n",
       "      <th>StackOverflowAdsDistracting</th>\n",
       "      <td>The ads on Stack Overflow are distracting</td>\n",
       "    </tr>\n",
       "    <tr>\n",
       "      <th>Gender</th>\n",
       "      <td>Which of the following do you currently identify as?</td>\n",
       "    </tr>\n",
       "    <tr>\n",
       "      <th>HighestEducationParents</th>\n",
       "      <td>What is the highest level of education received by either of your parents?</td>\n",
       "    </tr>\n",
       "    <tr>\n",
       "      <th>Race</th>\n",
       "      <td>Which of the following do you identify as?</td>\n",
       "    </tr>\n",
       "    <tr>\n",
       "      <th>Salary</th>\n",
       "      <td>What is your current annual base salary, before taxes, and excluding bonuses, grants, or other compensation?</td>\n",
       "    </tr>\n",
       "  </tbody>\n",
       "</table>\n",
       "</div>"
      ],
      "text/plain": [
       "                                                                                                                                                                                                                                                                                                                                                                                                                                                                                                                                                                                                                                                                                                                                                                                                                                                                                                                                                                                                                                                                                                                                     Question\n",
       "Column                                                                                                                                                                                                                                                                                                                                                                                                                                                                                                                                                                                                                                                                                                                                                                                                                                                                                                                                                                                                                                                                                                                                       \n",
       "Respondent                        Respondent ID number                                                                                                                                                                                                                                                                                                                                                                                                                                                                                                                                                                                                                                                                                                                                                                                                                                                                                                                                                                                                                                                                                       \n",
       "Professional                      Which of the following best describes you?                                                                                                                                                                                                                                                                                                                                                                                                                                                                                                                                                                                                                                                                                                                                                                                                                                                                                                                                                                                                                                                                 \n",
       "Country                           In which country do you currently live?                                                                                                                                                                                                                                                                                                                                                                                                                                                                                                                                                                                                                                                                                                                                                                                                                                                                                                                                                                                                                                                                    \n",
       "University                        Are you currently enrolled in a formal, degree-granting college or university program?                                                                                                                                                                                                                                                                                                                                                                                                                                                                                                                                                                                                                                                                                                                                                                                                                                                                                                                                                                                                                     \n",
       "EmploymentStatus                  Which of the following best describes your current employment status?                                                                                                                                                                                                                                                                                                                                                                                                                                                                                                                                                                                                                                                                                                                                                                                                                                                                                                                                                                                                                                      \n",
       "FormalEducation                   Which of the following best describes the highest level of formal education that you've completed?                                                                                                                                                                                                                                                                                                                                                                                                                                                                                                                                                                                                                                                                                                                                                                                                                                                                                                                                                                                                         \n",
       "MajorUndergrad                    Which of the following best describes your main field of study (aka 'major') in college or university/for your undergraduate studies?                                                                                                                                                                                                                                                                                                                                                                                                                                                                                                                                                                                                                                                                                                                                                                                                                                                                                                                                                                      \n",
       "HomeRemote                        How often do you work from home or remotely?                                                                                                                                                                                                                                                                                                                                                                                                                                                                                                                                                                                                                                                                                                                                                                                                                                                                                                                                                                                                                                                               \n",
       "CompanySize                       In terms of the number of employees, how large is the company or organization you work for?                                                                                                                                                                                                                                                                                                                                                                                                                                                                                                                                                                                                                                                                                                                                                                                                                                                                                                                                                                                                                \n",
       "CompanyType                       Which of the following best describes the type of company or organization you work for?                                                                                                                                                                                                                                                                                                                                                                                                                                                                                                                                                                                                                                                                                                                                                                                                                                                                                                                                                                                                                    \n",
       "YearsProgram                      How long has it been since you first learned how to program?                                                                                                                                                                                                                                                                                                                                                                                                                                                                                                                                                                                                                                                                                                                                                                                                                                                                                                                                                                                                                                               \n",
       "YearsCodedJob                     For how many years have you coded as part of your job?                                                                                                                                                                                                                                                                                                                                                                                                                                                                                                                                                                                                                                                                                                                                                                                                                                                                                                                                                                                                                                                     \n",
       "DeveloperType                     Which of the following best describe you?                                                                                                                                                                                                                                                                                                                                                                                                                                                                                                                                                                                                                                                                                                                                                                                                                                                                                                                                                                                                                                                                  \n",
       "NonDeveloperType                  Which of the following describe you?                                                                                                                                                                                                                                                                                                                                                                                                                                                                                                                                                                                                                                                                                                                                                                                                                                                                                                                                                                                                                                                                       \n",
       "CareerSatisfaction                Career satisfaction rating                                                                                                                                                                                                                                                                                                                                                                                                                                                                                                                                                                                                                                                                                                                                                                                                                                                                                                                                                                                                                                                                                 \n",
       "JobSatisfaction                   Job satisfaction rating                                                                                                                                                                                                                                                                                                                                                                                                                                                                                                                                                                                                                                                                                                                                                                                                                                                                                                                                                                                                                                                                                    \n",
       "ProblemSolving                    I love solving problems                                                                                                                                                                                                                                                                                                                                                                                                                                                                                                                                                                                                                                                                                                                                                                                                                                                                                                                                                                                                                                                                                    \n",
       "BuildingThings                    Building things is very rewarding                                                                                                                                                                                                                                                                                                                                                                                                                                                                                                                                                                                                                                                                                                                                                                                                                                                                                                                                                                                                                                                                          \n",
       "LearningNewTech                   Learning new technologies is fun                                                                                                                                                                                                                                                                                                                                                                                                                                                                                                                                                                                                                                                                                                                                                                                                                                                                                                                                                                                                                                                                           \n",
       "BoringDetails                     I tend to get bored by implementation details                                                                                                                                                                                                                                                                                                                                                                                                                                                                                                                                                                                                                                                                                                                                                                                                                                                                                                                                                                                                                                                              \n",
       "JobSecurity                       Job security is important to me                                                                                                                                                                                                                                                                                                                                                                                                                                                                                                                                                                                                                                                                                                                                                                                                                                                                                                                                                                                                                                                                            \n",
       "DiversityImportant                Diversity in the workplace is important                                                                                                                                                                                                                                                                                                                                                                                                                                                                                                                                                                                                                                                                                                                                                                                                                                                                                                                                                                                                                                                                    \n",
       "AnnoyingUI                        It annoys me when software has a poor UI                                                                                                                                                                                                                                                                                                                                                                                                                                                                                                                                                                                                                                                                                                                                                                                                                                                                                                                                                                                                                                                                   \n",
       "FriendsDevelopers                 Most of my friends are developers, engineers, or scientists                                                                                                                                                                                                                                                                                                                                                                                                                                                                                                                                                                                                                                                                                                                                                                                                                                                                                                                                                                                                                                                \n",
       "RightWrongWay                     There's a right and a wrong way to do everything                                                                                                                                                                                                                                                                                                                                                                                                                                                                                                                                                                                                                                                                                                                                                                                                                                                                                                                                                                                                                                                           \n",
       "UnderstandComputers               Honestly, there's a lot about computers that I just don't understand                                                                                                                                                                                                                                                                                                                                                                                                                                                                                                                                                                                                                                                                                                                                                                                                                                                                                                                                                                                                                                       \n",
       "SeriousWork                       I take my work very seriously                                                                                                                                                                                                                                                                                                                                                                                                                                                                                                                                                                                                                                                                                                                                                                                                                                                                                                                                                                                                                                                                              \n",
       "InvestTimeTools                   I invest a lot of time into the tools I use                                                                                                                                                                                                                                                                                                                                                                                                                                                                                                                                                                                                                                                                                                                                                                                                                                                                                                                                                                                                                                                                \n",
       "WorkPayCare                       I don't really care what I work on, so long as I'm paid well                                                                                                                                                                                                                                                                                                                                                                                                                                                                                                                                                                                                                                                                                                                                                                                                                                                                                                                                                                                                                                               \n",
       "KinshipDevelopers                 I feel a sense of kinship to other developers                                                                                                                                                                                                                                                                                                                                                                                                                                                                                                                                                                                                                                                                                                                                                                                                                                                                                                                                                                                                                                                              \n",
       "ChallengeMyself                   I like to challenge myself                                                                                                                                                                                                                                                                                                                                                                                                                                                                                                                                                                                                                                                                                                                                                                                                                                                                                                                                                                                                                                                                                 \n",
       "CompetePeers                      I think of myself as competing with my peers                                                                                                                                                                                                                                                                                                                                                                                                                                                                                                                                                                                                                                                                                                                                                                                                                                                                                                                                                                                                                                                               \n",
       "ChangeWorld                       I want to change the world                                                                                                                                                                                                                                                                                                                                                                                                                                                                                                                                                                                                                                                                                                                                                                                                                                                                                                                                                                                                                                                                                 \n",
       "JobSeekingStatus                  Which of the following best describes your current job-seeking status?                                                                                                                                                                                                                                                                                                                                                                                                                                                                                                                                                                                                                                                                                                                                                                                                                                                                                                                                                                                                                                     \n",
       "HoursPerWeek                      During a typical week, approximately how many hours do you spend on activities related to finding new job opportunities?Please adjust the slider to the appropriate number of hours. The box to the right will indicate the number of hours you have chosen.                                                                                                                                                                                                                                                                                                                                                                                                                                                                                                                                                                                                                                                                                                                                                                                                                                               \n",
       "LastNewJob                        When was the last time that you took a job with a new employer?                                                                                                                                                                                                                                                                                                                                                                                                                                                                                                                                                                                                                                                                                                                                                                                                                                                                                                                                                                                                                                            \n",
       "AssessJobIndustry                 When you're assessing potential jobs to apply to, how important are each of the following to you? The industry that I'd be working in                                                                                                                                                                                                                                                                                                                                                                                                                                                                                                                                                                                                                                                                                                                                                                                                                                                                                                                                                                      \n",
       "AssessJobRole                     When you're assessing potential jobs to apply to, how important are each of the following to you? The specific role or job title I'd be applying for                                                                                                                                                                                                                                                                                                                                                                                                                                                                                                                                                                                                                                                                                                                                                                                                                                                                                                                                                       \n",
       "AssessJobExp                      When you're assessing potential jobs to apply to, how important are each of the following to you? The experience level called for in the job description                                                                                                                                                                                                                                                                                                                                                                                                                                                                                                                                                                                                                                                                                                                                                                                                                                                                                                                                                   \n",
       "AssessJobDept                     When you're assessing potential jobs to apply to, how important are each of the following to you? The specific department or team I'd be working on                                                                                                                                                                                                                                                                                                                                                                                                                                                                                                                                                                                                                                                                                                                                                                                                                                                                                                                                                        \n",
       "AssessJobTech                     When you're assessing potential jobs to apply to, how important are each of the following to you? The languages, frameworks, and other technologies I'd be working with                                                                                                                                                                                                                                                                                                                                                                                                                                                                                                                                                                                                                                                                                                                                                                                                                                                                                                                                    \n",
       "AssessJobProjects                 When you're assessing potential jobs to apply to, how important are each of the following to you? How projects are managed at the company or organization                                                                                                                                                                                                                                                                                                                                                                                                                                                                                                                                                                                                                                                                                                                                                                                                                                                                                                                                                  \n",
       "AssessJobCompensation             When you're assessing potential jobs to apply to, how important are each of the following to you? The compensation and benefits offered                                                                                                                                                                                                                                                                                                                                                                                                                                                                                                                                                                                                                                                                                                                                                                                                                                                                                                                                                                    \n",
       "AssessJobOffice                   When you're assessing potential jobs to apply to, how important are each of the following to you? The office environment I'd be working in                                                                                                                                                                                                                                                                                                                                                                                                                                                                                                                                                                                                                                                                                                                                                                                                                                                                                                                                                                 \n",
       "AssessJobCommute                  When you're assessing potential jobs to apply to, how important are each of the following to you? The amount of time I'd have to spend commuting                                                                                                                                                                                                                                                                                                                                                                                                                                                                                                                                                                                                                                                                                                                                                                                                                                                                                                                                                           \n",
       "AssessJobRemote                   When you're assessing potential jobs to apply to, how important are each of the following to you? The opportunity to work from home/remotely                                                                                                                                                                                                                                                                                                                                                                                                                                                                                                                                                                                                                                                                                                                                                                                                                                                                                                                                                               \n",
       "AssessJobLeaders                  When you're assessing potential jobs to apply to, how important are each of the following to you? The reputations of the company's senior leaders                                                                                                                                                                                                                                                                                                                                                                                                                                                                                                                                                                                                                                                                                                                                                                                                                                                                                                                                                          \n",
       "AssessJobProfDevel                When you're assessing potential jobs to apply to, how important are each of the following to you? Opportunities for professional development                                                                                                                                                                                                                                                                                                                                                                                                                                                                                                                                                                                                                                                                                                                                                                                                                                                                                                                                                               \n",
       "AssessJobDiversity                When you're assessing potential jobs to apply to, how important are each of the following to you? The diversity of the company or organization                                                                                                                                                                                                                                                                                                                                                                                                                                                                                                                                                                                                                                                                                                                                                                                                                                                                                                                                                             \n",
       "AssessJobProduct                  When you're assessing potential jobs to apply to, how important are each of the following to you? How widely used or impactful the product or service I'd be working on is                                                                                                                                                                                                                                                                                                                                                                                                                                                                                                                                                                                                                                                                                                                                                                                                                                                                                                                                 \n",
       "AssessJobFinances                 When you're assessing potential jobs to apply to, how important are each of the following to you? The financial performance or funding status of the company or organization                                                                                                                                                                                                                                                                                                                                                                                                                                                                                                                                                                                                                                                                                                                                                                                                                                                                                                                               \n",
       "ImportantBenefits                 When it comes to compensation and benefits, other than base salary, which of the following are most important to you?                                                                                                                                                                                                                                                                                                                                                                                                                                                                                                                                                                                                                                                                                                                                                                                                                                                                                                                                                                                      \n",
       "JobProfile                        On which of the following sites do you maintain a profile, CV, or resumé?                                                                                                                                                                                                                                                                                                                                                                                                                                                                                                                                                                                                                                                                                                                                                                                                                                                                                                                                                                                                                                  \n",
       "ResumePrompted                    Think back to the last time you updated your resumé, CV, or an online profile on a job site. What prompted you to do so?                                                                                                                                                                                                                                                                                                                                                                                                                                                                                                                                                                                                                                                                                                                                                                                                                                                                                                                                                                                   \n",
       "LearnedHiring                     Think back to when you first applied to work for your current employer. Which of the following best describes how you learned that they were hiring for that particular job?                                                                                                                                                                                                                                                                                                                                                                                                                                                                                                                                                                                                                                                                                                                                                                                                                                                                                                                               \n",
       "ImportantHiringAlgorithms         Congratulations! You've just been put in charge of technical recruiting at Globex, a multinational high- tech firm. This job comes with a corner office, and you have an experienced staff of recruiters at your disposal. They want to know what they should prioritize when recruiting software developers. How important should each of the following be in Globex's hiring process? Knowledge of algorithms and data structures                                                                                                                                                                                                                                                                                                                                                                                                                                                                                                                                                                                                                                                                        \n",
       "ImportantHiringTechExp            Congratulations! You've just been put in charge of technical recruiting at Globex, a multinational high- tech firm. This job comes with a corner office, and you have an experienced staff of recruiters at your disposal. They want to know what they should prioritize when recruiting software developers. How important should each of the following be in Globex's hiring process? Experience with specific tools (libraries, frameworks, etc.) used by the employer                                                                                                                                                                                                                                                                                                                                                                                                                                                                                                                                                                                                                                  \n",
       "ImportantHiringCommunication      Congratulations! You've just been put in charge of technical recruiting at Globex, a multinational high- tech firm. This job comes with a corner office, and you have an experienced staff of recruiters at your disposal. They want to know what they should prioritize when recruiting software developers. How important should each of the following be in Globex's hiring process? Communication skills                                                                                                                                                                                                                                                                                                                                                                                                                                                                                                                                                                                                                                                                                               \n",
       "ImportantHiringOpenSource         Congratulations! You've just been put in charge of technical recruiting at Globex, a multinational high- tech firm. This job comes with a corner office, and you have an experienced staff of recruiters at your disposal. They want to know what they should prioritize when recruiting software developers. How important should each of the following be in Globex's hiring process? Contributions to open source projects                                                                                                                                                                                                                                                                                                                                                                                                                                                                                                                                                                                                                                                                              \n",
       "ImportantHiringPMExp              Congratulations! You've just been put in charge of technical recruiting at Globex, a multinational high- tech firm. This job comes with a corner office, and you have an experienced staff of recruiters at your disposal. They want to know what they should prioritize when recruiting software developers. How important should each of the following be in Globex's hiring process? Experience with specific project management tools & techniques                                                                                                                                                                                                                                                                                                                                                                                                                                                                                                                                                                                                                                                     \n",
       "ImportantHiringCompanies          Congratulations! You've just been put in charge of technical recruiting at Globex, a multinational high- tech firm. This job comes with a corner office, and you have an experienced staff of recruiters at your disposal. They want to know what they should prioritize when recruiting software developers. How important should each of the following be in Globex's hiring process? Previous companies worked at                                                                                                                                                                                                                                                                                                                                                                                                                                                                                                                                                                                                                                                                                       \n",
       "ImportantHiringTitles             Congratulations! You've just been put in charge of technical recruiting at Globex, a multinational high- tech firm. This job comes with a corner office, and you have an experienced staff of recruiters at your disposal. They want to know what they should prioritize when recruiting software developers. How important should each of the following be in Globex's hiring process? Previous job titles held                                                                                                                                                                                                                                                                                                                                                                                                                                                                                                                                                                                                                                                                                           \n",
       "ImportantHiringEducation          Congratulations! You've just been put in charge of technical recruiting at Globex, a multinational high- tech firm. This job comes with a corner office, and you have an experienced staff of recruiters at your disposal. They want to know what they should prioritize when recruiting software developers. How important should each of the following be in Globex's hiring process? Educational credentials (e.g. schools attended, specific field of study, grades earned)                                                                                                                                                                                                                                                                                                                                                                                                                                                                                                                                                                                                                            \n",
       "ImportantHiringRep                Congratulations! You've just been put in charge of technical recruiting at Globex, a multinational high- tech firm. This job comes with a corner office, and you have an experienced staff of recruiters at your disposal. They want to know what they should prioritize when recruiting software developers. How important should each of the following be in Globex's hiring process? Stack Overflow reputation                                                                                                                                                                                                                                                                                                                                                                                                                                                                                                                                                                                                                                                                                          \n",
       "ImportantHiringGettingThingsDone  Congratulations! You've just been put in charge of technical recruiting at Globex, a multinational high- tech firm. This job comes with a corner office, and you have an experienced staff of recruiters at your disposal. They want to know what they should prioritize when recruiting software developers. How important should each of the following be in Globex's hiring process? Track record of getting things done                                                                                                                                                                                                                                                                                                                                                                                                                                                                                                                                                                                                                                                                                \n",
       "EducationImportant                Overall, how important has your formal schooling and education been to your career success?                                                                                                                                                                                                                                                                                                                                                                                                                                                                                                                                                                                                                                                                                                                                                                                                                                                                                                                                                                                                                \n",
       "EducationTypes                    Outside of your formal schooling and education, which of the following have you done?                                                                                                                                                                                                                                                                                                                                                                                                                                                                                                                                                                                                                                                                                                                                                                                                                                                                                                                                                                                                                      \n",
       "SelfTaughtTypes                   You indicated that you had taught yourself a programming technology without taking a course. What resources did you use to do that? If you've done it more than once, please think about the most recent time you've done so.                                                                                                                                                                                                                                                                                                                                                                                                                                                                                                                                                                                                                                                                                                                                                                                                                                                                              \n",
       "CousinEducation                   Let's pretend you have a distant cousin. They are 24 years old, have a college degree in a field not related to computer programming, and have been working a non-coding job for the last two years. They want your advice on how to switch to a career as a software developer. Which of the following options would you most strongly recommend to your cousin?\\nLet's pretend you have a distant cousin named Robert. He is 24 years old, has a college degree in a field not related to computer programming, and has been working a non-coding job for the last two years. He wants your advice on how to switch to a career as a software developer. Which of the following options would you most strongly recommend to Robert?\\nLet's pretend you have a distant cousin named Alice. She is 24 years old, has a college degree in a field not related to computer programming, and has been working a non-coding job for the last two years. She wants your advice on how to switch to a career as a software developer. Which of the following options would you most strongly recommend to Alice?\n",
       "WorkStart                         Suppose you could choose your own working hours for an 8-hour day. What time would you start work for the day? Please adjust the slider to the hour nearest your ideal start time. The box next to the slider will display your selection using a 24-hour clock                                                                                                                                                                                                                                                                                                                                                                                                                                                                                                                                                                                                                                                                                                                                                                                                                                            \n",
       "HaveWorkedLanguage                Which of the following languages have you done extensive development work in over the past year, and which do you want to work in over the next year?                                                                                                                                                                                                                                                                                                                                                                                                                                                                                                                                                                                                                                                                                                                                                                                                                                                                                                                                                      \n",
       "WantWorkLanguage                  Which of the following languages have you done extensive development work in over the past year, and which do you want to work in over the next year?                                                                                                                                                                                                                                                                                                                                                                                                                                                                                                                                                                                                                                                                                                                                                                                                                                                                                                                                                      \n",
       "HaveWorkedPlatform                Which of the following platforms have you done extensive development work for over the past year, and which do you want to work on over the next year?                                                                                                                                                                                                                                                                                                                                                                                                                                                                                                                                                                                                                                                                                                                                                                                                                                                                                                                                                     \n",
       "AuditoryEnvironment               Suppose you're about to start a few hours of coding and have complete control over your auditory environment (music, background noise, etc.). What would you do?                                                                                                                                                                                                                                                                                                                                                                                                                                                                                                                                                                                                                                                                                                                                                                                                                                                                                                                                           \n",
       "CollaborateRemote                 It's harder to collaborate with remote peers than those on site                                                                                                                                                                                                                                                                                                                                                                                                                                                                                                                                                                                                                                                                                                                                                                                                                                                                                                                                                                                                                                            \n",
       "MetricAssess                      Congratulations! The bosses at your new employer, E Corp, are allowing you to choose which metrics will be used to assess your individual performance in your role as a senior developer. Which metrics do you suggest to the E bosses?                                                                                                                                                                                                                                                                                                                                                                                                                                                                                                                                                                                                                                                                                                                                                                                                                                                                    \n",
       "StackOverflowDescribes            Which of the following best describes you?                                                                                                                                                                                                                                                                                                                                                                                                                                                                                                                                                                                                                                                                                                                                                                                                                                                                                                                                                                                                                                                                 \n",
       "StackOverflowSatisfaction         Stack Overflow satisfaction                                                                                                                                                                                                                                                                                                                                                                                                                                                                                                                                                                                                                                                                                                                                                                                                                                                                                                                                                                                                                                                                                \n",
       "StackOverflowDevices              Which of the following devices have you used to connect to Stack Overflow over the last three months?                                                                                                                                                                                                                                                                                                                                                                                                                                                                                                                                                                                                                                                                                                                                                                                                                                                                                                                                                                                                      \n",
       "StackOverflowFoundAnswer          Over the last three months, approximately how often have you done each of the following on Stack Overflow? Found an answer that solved my coding problem                                                                                                                                                                                                                                                                                                                                                                                                                                                                                                                                                                                                                                                                                                                                                                                                                                                                                                                                                   \n",
       "StackOverflowCopiedCode           Over the last three months, approximately how often have you done each of the following on Stack Overflow? Copied a code example and pasted it into my codebase                                                                                                                                                                                                                                                                                                                                                                                                                                                                                                                                                                                                                                                                                                                                                                                                                                                                                                                                            \n",
       "StackOverflowJobListing           Over the last three months, approximately how often have you done each of the following on Stack Overflow? Seen a job listing I was interested in                                                                                                                                                                                                                                                                                                                                                                                                                                                                                                                                                                                                                                                                                                                                                                                                                                                                                                                                                          \n",
       "StackOverflowCompanyPage          Over the last three months, approximately how often have you done each of the following on Stack Overflow? Researched a potential employer by visiting its company page                                                                                                                                                                                                                                                                                                                                                                                                                                                                                                                                                                                                                                                                                                                                                                                                                                                                                                                                    \n",
       "StackOverflowJobSearch            Over the last three months, approximately how often have you done each of the following on Stack Overflow? Searched for jobs                                                                                                                                                                                                                                                                                                                                                                                                                                                                                                                                                                                                                                                                                                                                                                                                                                                                                                                                                                               \n",
       "StackOverflowNewQuestion          Over the last three months, approximately how often have you done each of the following on Stack Overflow? Asked a new question                                                                                                                                                                                                                                                                                                                                                                                                                                                                                                                                                                                                                                                                                                                                                                                                                                                                                                                                                                            \n",
       "StackOverflowAnswer               Over the last three months, approximately how often have you done each of the following on Stack Overflow? Written a new answer to someone else's question                                                                                                                                                                                                                                                                                                                                                                                                                                                                                                                                                                                                                                                                                                                                                                                                                                                                                                                                                 \n",
       "StackOverflowMetaChat             Over the last three months, approximately how often have you done each of the following on Stack Overflow? Participated in community discussions on meta or in chat                                                                                                                                                                                                                                                                                                                                                                                                                                                                                                                                                                                                                                                                                                                                                                                                                                                                                                                                        \n",
       "StackOverflowAdsRelevant          The ads on Stack Overflow are relevant to me                                                                                                                                                                                                                                                                                                                                                                                                                                                                                                                                                                                                                                                                                                                                                                                                                                                                                                                                                                                                                                                               \n",
       "StackOverflowAdsDistracting       The ads on Stack Overflow are distracting                                                                                                                                                                                                                                                                                                                                                                                                                                                                                                                                                                                                                                                                                                                                                                                                                                                                                                                                                                                                                                                                  \n",
       "Gender                            Which of the following do you currently identify as?                                                                                                                                                                                                                                                                                                                                                                                                                                                                                                                                                                                                                                                                                                                                                                                                                                                                                                                                                                                                                                                       \n",
       "HighestEducationParents           What is the highest level of education received by either of your parents?                                                                                                                                                                                                                                                                                                                                                                                                                                                                                                                                                                                                                                                                                                                                                                                                                                                                                                                                                                                                                                 \n",
       "Race                              Which of the following do you identify as?                                                                                                                                                                                                                                                                                                                                                                                                                                                                                                                                                                                                                                                                                                                                                                                                                                                                                                                                                                                                                                                                 \n",
       "Salary                            What is your current annual base salary, before taxes, and excluding bonuses, grants, or other compensation?                                                                                                                                                                                                                                                                                                                                                                                                                                                                                                                                                                                                                                                                                                                                                                                                                                                                                                                                                                                               "
      ]
     },
     "execution_count": 7,
     "metadata": {},
     "output_type": "execute_result"
    }
   ],
   "source": [
    "Introduction"
   ]
  },
  {
   "cell_type": "markdown",
   "metadata": {},
   "source": [
    "<div class=\"alert alert-block alert-info\">\n",
    "# Preparing DataFrame / Data Cleaning"
   ]
  },
  {
   "cell_type": "code",
   "execution_count": 8,
   "metadata": {},
   "outputs": [],
   "source": [
    "df = pd.read_csv('survey_results_public.csv',index_col=0)"
   ]
  },
  {
   "cell_type": "code",
   "execution_count": 9,
   "metadata": {},
   "outputs": [
    {
     "data": {
      "text/plain": [
       "(51392, 153)"
      ]
     },
     "execution_count": 9,
     "metadata": {},
     "output_type": "execute_result"
    }
   ],
   "source": [
    "df.shape"
   ]
  },
  {
   "cell_type": "code",
   "execution_count": 10,
   "metadata": {},
   "outputs": [
    {
     "data": {
      "text/html": [
       "<div>\n",
       "<style scoped>\n",
       "    .dataframe tbody tr th:only-of-type {\n",
       "        vertical-align: middle;\n",
       "    }\n",
       "\n",
       "    .dataframe tbody tr th {\n",
       "        vertical-align: top;\n",
       "    }\n",
       "\n",
       "    .dataframe thead th {\n",
       "        text-align: right;\n",
       "    }\n",
       "</style>\n",
       "<table border=\"1\" class=\"dataframe\">\n",
       "  <thead>\n",
       "    <tr style=\"text-align: right;\">\n",
       "      <th></th>\n",
       "      <th>Professional</th>\n",
       "      <th>ProgramHobby</th>\n",
       "      <th>Country</th>\n",
       "      <th>University</th>\n",
       "      <th>EmploymentStatus</th>\n",
       "      <th>FormalEducation</th>\n",
       "      <th>MajorUndergrad</th>\n",
       "      <th>HomeRemote</th>\n",
       "      <th>CompanySize</th>\n",
       "      <th>CompanyType</th>\n",
       "      <th>YearsProgram</th>\n",
       "      <th>YearsCodedJob</th>\n",
       "      <th>YearsCodedJobPast</th>\n",
       "      <th>DeveloperType</th>\n",
       "      <th>WebDeveloperType</th>\n",
       "      <th>MobileDeveloperType</th>\n",
       "      <th>NonDeveloperType</th>\n",
       "      <th>CareerSatisfaction</th>\n",
       "      <th>JobSatisfaction</th>\n",
       "      <th>ExCoderReturn</th>\n",
       "      <th>ExCoderNotForMe</th>\n",
       "      <th>ExCoderBalance</th>\n",
       "      <th>ExCoder10Years</th>\n",
       "      <th>ExCoderBelonged</th>\n",
       "      <th>ExCoderSkills</th>\n",
       "      <th>ExCoderWillNotCode</th>\n",
       "      <th>ExCoderActive</th>\n",
       "      <th>PronounceGIF</th>\n",
       "      <th>ProblemSolving</th>\n",
       "      <th>BuildingThings</th>\n",
       "      <th>LearningNewTech</th>\n",
       "      <th>BoringDetails</th>\n",
       "      <th>JobSecurity</th>\n",
       "      <th>DiversityImportant</th>\n",
       "      <th>AnnoyingUI</th>\n",
       "      <th>FriendsDevelopers</th>\n",
       "      <th>RightWrongWay</th>\n",
       "      <th>UnderstandComputers</th>\n",
       "      <th>SeriousWork</th>\n",
       "      <th>InvestTimeTools</th>\n",
       "      <th>WorkPayCare</th>\n",
       "      <th>KinshipDevelopers</th>\n",
       "      <th>ChallengeMyself</th>\n",
       "      <th>CompetePeers</th>\n",
       "      <th>ChangeWorld</th>\n",
       "      <th>JobSeekingStatus</th>\n",
       "      <th>HoursPerWeek</th>\n",
       "      <th>LastNewJob</th>\n",
       "      <th>AssessJobIndustry</th>\n",
       "      <th>AssessJobRole</th>\n",
       "      <th>AssessJobExp</th>\n",
       "      <th>AssessJobDept</th>\n",
       "      <th>AssessJobTech</th>\n",
       "      <th>AssessJobProjects</th>\n",
       "      <th>AssessJobCompensation</th>\n",
       "      <th>AssessJobOffice</th>\n",
       "      <th>AssessJobCommute</th>\n",
       "      <th>AssessJobRemote</th>\n",
       "      <th>AssessJobLeaders</th>\n",
       "      <th>AssessJobProfDevel</th>\n",
       "      <th>AssessJobDiversity</th>\n",
       "      <th>AssessJobProduct</th>\n",
       "      <th>AssessJobFinances</th>\n",
       "      <th>ImportantBenefits</th>\n",
       "      <th>ClickyKeys</th>\n",
       "      <th>JobProfile</th>\n",
       "      <th>ResumePrompted</th>\n",
       "      <th>LearnedHiring</th>\n",
       "      <th>ImportantHiringAlgorithms</th>\n",
       "      <th>ImportantHiringTechExp</th>\n",
       "      <th>ImportantHiringCommunication</th>\n",
       "      <th>ImportantHiringOpenSource</th>\n",
       "      <th>ImportantHiringPMExp</th>\n",
       "      <th>ImportantHiringCompanies</th>\n",
       "      <th>ImportantHiringTitles</th>\n",
       "      <th>ImportantHiringEducation</th>\n",
       "      <th>ImportantHiringRep</th>\n",
       "      <th>ImportantHiringGettingThingsDone</th>\n",
       "      <th>Currency</th>\n",
       "      <th>Overpaid</th>\n",
       "      <th>TabsSpaces</th>\n",
       "      <th>EducationImportant</th>\n",
       "      <th>EducationTypes</th>\n",
       "      <th>SelfTaughtTypes</th>\n",
       "      <th>TimeAfterBootcamp</th>\n",
       "      <th>CousinEducation</th>\n",
       "      <th>WorkStart</th>\n",
       "      <th>HaveWorkedLanguage</th>\n",
       "      <th>WantWorkLanguage</th>\n",
       "      <th>HaveWorkedFramework</th>\n",
       "      <th>WantWorkFramework</th>\n",
       "      <th>HaveWorkedDatabase</th>\n",
       "      <th>WantWorkDatabase</th>\n",
       "      <th>HaveWorkedPlatform</th>\n",
       "      <th>WantWorkPlatform</th>\n",
       "      <th>IDE</th>\n",
       "      <th>AuditoryEnvironment</th>\n",
       "      <th>Methodology</th>\n",
       "      <th>VersionControl</th>\n",
       "      <th>CheckInCode</th>\n",
       "      <th>ShipIt</th>\n",
       "      <th>OtherPeoplesCode</th>\n",
       "      <th>ProjectManagement</th>\n",
       "      <th>EnjoyDebugging</th>\n",
       "      <th>InTheZone</th>\n",
       "      <th>DifficultCommunication</th>\n",
       "      <th>CollaborateRemote</th>\n",
       "      <th>MetricAssess</th>\n",
       "      <th>EquipmentSatisfiedMonitors</th>\n",
       "      <th>EquipmentSatisfiedCPU</th>\n",
       "      <th>EquipmentSatisfiedRAM</th>\n",
       "      <th>EquipmentSatisfiedStorage</th>\n",
       "      <th>EquipmentSatisfiedRW</th>\n",
       "      <th>InfluenceInternet</th>\n",
       "      <th>InfluenceWorkstation</th>\n",
       "      <th>InfluenceHardware</th>\n",
       "      <th>InfluenceServers</th>\n",
       "      <th>InfluenceTechStack</th>\n",
       "      <th>InfluenceDeptTech</th>\n",
       "      <th>InfluenceVizTools</th>\n",
       "      <th>InfluenceDatabase</th>\n",
       "      <th>InfluenceCloud</th>\n",
       "      <th>InfluenceConsultants</th>\n",
       "      <th>InfluenceRecruitment</th>\n",
       "      <th>InfluenceCommunication</th>\n",
       "      <th>StackOverflowDescribes</th>\n",
       "      <th>StackOverflowSatisfaction</th>\n",
       "      <th>StackOverflowDevices</th>\n",
       "      <th>StackOverflowFoundAnswer</th>\n",
       "      <th>StackOverflowCopiedCode</th>\n",
       "      <th>StackOverflowJobListing</th>\n",
       "      <th>StackOverflowCompanyPage</th>\n",
       "      <th>StackOverflowJobSearch</th>\n",
       "      <th>StackOverflowNewQuestion</th>\n",
       "      <th>StackOverflowAnswer</th>\n",
       "      <th>StackOverflowMetaChat</th>\n",
       "      <th>StackOverflowAdsRelevant</th>\n",
       "      <th>StackOverflowAdsDistracting</th>\n",
       "      <th>StackOverflowModeration</th>\n",
       "      <th>StackOverflowCommunity</th>\n",
       "      <th>StackOverflowHelpful</th>\n",
       "      <th>StackOverflowBetter</th>\n",
       "      <th>StackOverflowWhatDo</th>\n",
       "      <th>StackOverflowMakeMoney</th>\n",
       "      <th>Gender</th>\n",
       "      <th>HighestEducationParents</th>\n",
       "      <th>Race</th>\n",
       "      <th>SurveyLong</th>\n",
       "      <th>QuestionsInteresting</th>\n",
       "      <th>QuestionsConfusing</th>\n",
       "      <th>InterestedAnswers</th>\n",
       "      <th>Salary</th>\n",
       "      <th>ExpectedSalary</th>\n",
       "    </tr>\n",
       "    <tr>\n",
       "      <th>Respondent</th>\n",
       "      <th></th>\n",
       "      <th></th>\n",
       "      <th></th>\n",
       "      <th></th>\n",
       "      <th></th>\n",
       "      <th></th>\n",
       "      <th></th>\n",
       "      <th></th>\n",
       "      <th></th>\n",
       "      <th></th>\n",
       "      <th></th>\n",
       "      <th></th>\n",
       "      <th></th>\n",
       "      <th></th>\n",
       "      <th></th>\n",
       "      <th></th>\n",
       "      <th></th>\n",
       "      <th></th>\n",
       "      <th></th>\n",
       "      <th></th>\n",
       "      <th></th>\n",
       "      <th></th>\n",
       "      <th></th>\n",
       "      <th></th>\n",
       "      <th></th>\n",
       "      <th></th>\n",
       "      <th></th>\n",
       "      <th></th>\n",
       "      <th></th>\n",
       "      <th></th>\n",
       "      <th></th>\n",
       "      <th></th>\n",
       "      <th></th>\n",
       "      <th></th>\n",
       "      <th></th>\n",
       "      <th></th>\n",
       "      <th></th>\n",
       "      <th></th>\n",
       "      <th></th>\n",
       "      <th></th>\n",
       "      <th></th>\n",
       "      <th></th>\n",
       "      <th></th>\n",
       "      <th></th>\n",
       "      <th></th>\n",
       "      <th></th>\n",
       "      <th></th>\n",
       "      <th></th>\n",
       "      <th></th>\n",
       "      <th></th>\n",
       "      <th></th>\n",
       "      <th></th>\n",
       "      <th></th>\n",
       "      <th></th>\n",
       "      <th></th>\n",
       "      <th></th>\n",
       "      <th></th>\n",
       "      <th></th>\n",
       "      <th></th>\n",
       "      <th></th>\n",
       "      <th></th>\n",
       "      <th></th>\n",
       "      <th></th>\n",
       "      <th></th>\n",
       "      <th></th>\n",
       "      <th></th>\n",
       "      <th></th>\n",
       "      <th></th>\n",
       "      <th></th>\n",
       "      <th></th>\n",
       "      <th></th>\n",
       "      <th></th>\n",
       "      <th></th>\n",
       "      <th></th>\n",
       "      <th></th>\n",
       "      <th></th>\n",
       "      <th></th>\n",
       "      <th></th>\n",
       "      <th></th>\n",
       "      <th></th>\n",
       "      <th></th>\n",
       "      <th></th>\n",
       "      <th></th>\n",
       "      <th></th>\n",
       "      <th></th>\n",
       "      <th></th>\n",
       "      <th></th>\n",
       "      <th></th>\n",
       "      <th></th>\n",
       "      <th></th>\n",
       "      <th></th>\n",
       "      <th></th>\n",
       "      <th></th>\n",
       "      <th></th>\n",
       "      <th></th>\n",
       "      <th></th>\n",
       "      <th></th>\n",
       "      <th></th>\n",
       "      <th></th>\n",
       "      <th></th>\n",
       "      <th></th>\n",
       "      <th></th>\n",
       "      <th></th>\n",
       "      <th></th>\n",
       "      <th></th>\n",
       "      <th></th>\n",
       "      <th></th>\n",
       "      <th></th>\n",
       "      <th></th>\n",
       "      <th></th>\n",
       "      <th></th>\n",
       "      <th></th>\n",
       "      <th></th>\n",
       "      <th></th>\n",
       "      <th></th>\n",
       "      <th></th>\n",
       "      <th></th>\n",
       "      <th></th>\n",
       "      <th></th>\n",
       "      <th></th>\n",
       "      <th></th>\n",
       "      <th></th>\n",
       "      <th></th>\n",
       "      <th></th>\n",
       "      <th></th>\n",
       "      <th></th>\n",
       "      <th></th>\n",
       "      <th></th>\n",
       "      <th></th>\n",
       "      <th></th>\n",
       "      <th></th>\n",
       "      <th></th>\n",
       "      <th></th>\n",
       "      <th></th>\n",
       "      <th></th>\n",
       "      <th></th>\n",
       "      <th></th>\n",
       "      <th></th>\n",
       "      <th></th>\n",
       "      <th></th>\n",
       "      <th></th>\n",
       "      <th></th>\n",
       "      <th></th>\n",
       "      <th></th>\n",
       "      <th></th>\n",
       "      <th></th>\n",
       "      <th></th>\n",
       "      <th></th>\n",
       "      <th></th>\n",
       "      <th></th>\n",
       "      <th></th>\n",
       "      <th></th>\n",
       "      <th></th>\n",
       "    </tr>\n",
       "  </thead>\n",
       "  <tbody>\n",
       "    <tr>\n",
       "      <th>1</th>\n",
       "      <td>Student</td>\n",
       "      <td>Yes, both</td>\n",
       "      <td>United States</td>\n",
       "      <td>No</td>\n",
       "      <td>Not employed, and not looking for work</td>\n",
       "      <td>Secondary school</td>\n",
       "      <td>NaN</td>\n",
       "      <td>NaN</td>\n",
       "      <td>NaN</td>\n",
       "      <td>NaN</td>\n",
       "      <td>2 to 3 years</td>\n",
       "      <td>NaN</td>\n",
       "      <td>NaN</td>\n",
       "      <td>NaN</td>\n",
       "      <td>NaN</td>\n",
       "      <td>NaN</td>\n",
       "      <td>NaN</td>\n",
       "      <td>NaN</td>\n",
       "      <td>NaN</td>\n",
       "      <td>NaN</td>\n",
       "      <td>NaN</td>\n",
       "      <td>NaN</td>\n",
       "      <td>NaN</td>\n",
       "      <td>NaN</td>\n",
       "      <td>NaN</td>\n",
       "      <td>NaN</td>\n",
       "      <td>NaN</td>\n",
       "      <td>With a soft \"g,\" like \"jiff\"</td>\n",
       "      <td>Strongly agree</td>\n",
       "      <td>Strongly agree</td>\n",
       "      <td>Agree</td>\n",
       "      <td>Disagree</td>\n",
       "      <td>Strongly agree</td>\n",
       "      <td>Agree</td>\n",
       "      <td>Agree</td>\n",
       "      <td>Disagree</td>\n",
       "      <td>Somewhat agree</td>\n",
       "      <td>Disagree</td>\n",
       "      <td>Strongly agree</td>\n",
       "      <td>Strongly agree</td>\n",
       "      <td>Strongly disagree</td>\n",
       "      <td>Agree</td>\n",
       "      <td>Agree</td>\n",
       "      <td>Disagree</td>\n",
       "      <td>Agree</td>\n",
       "      <td>I'm not actively looking, but I am open to new opportunities</td>\n",
       "      <td>0.0</td>\n",
       "      <td>Not applicable/ never</td>\n",
       "      <td>Very important</td>\n",
       "      <td>Very important</td>\n",
       "      <td>Important</td>\n",
       "      <td>Very important</td>\n",
       "      <td>Very important</td>\n",
       "      <td>Very important</td>\n",
       "      <td>Important</td>\n",
       "      <td>Very important</td>\n",
       "      <td>Very important</td>\n",
       "      <td>Very important</td>\n",
       "      <td>Very important</td>\n",
       "      <td>Very important</td>\n",
       "      <td>Somewhat important</td>\n",
       "      <td>Not very important</td>\n",
       "      <td>Somewhat important</td>\n",
       "      <td>Stock options; Vacation/days off; Remote options</td>\n",
       "      <td>Yes</td>\n",
       "      <td>Other</td>\n",
       "      <td>NaN</td>\n",
       "      <td>NaN</td>\n",
       "      <td>Important</td>\n",
       "      <td>Important</td>\n",
       "      <td>Important</td>\n",
       "      <td>Somewhat important</td>\n",
       "      <td>Important</td>\n",
       "      <td>Not very important</td>\n",
       "      <td>Not very important</td>\n",
       "      <td>Not at all important</td>\n",
       "      <td>Somewhat important</td>\n",
       "      <td>Very important</td>\n",
       "      <td>NaN</td>\n",
       "      <td>NaN</td>\n",
       "      <td>Tabs</td>\n",
       "      <td>NaN</td>\n",
       "      <td>Online course; Open source contributions</td>\n",
       "      <td>NaN</td>\n",
       "      <td>NaN</td>\n",
       "      <td>NaN</td>\n",
       "      <td>6:00 AM</td>\n",
       "      <td>Swift</td>\n",
       "      <td>Swift</td>\n",
       "      <td>NaN</td>\n",
       "      <td>NaN</td>\n",
       "      <td>NaN</td>\n",
       "      <td>NaN</td>\n",
       "      <td>iOS</td>\n",
       "      <td>iOS</td>\n",
       "      <td>Atom; Xcode</td>\n",
       "      <td>Turn on some music</td>\n",
       "      <td>NaN</td>\n",
       "      <td>NaN</td>\n",
       "      <td>NaN</td>\n",
       "      <td>NaN</td>\n",
       "      <td>NaN</td>\n",
       "      <td>NaN</td>\n",
       "      <td>NaN</td>\n",
       "      <td>NaN</td>\n",
       "      <td>NaN</td>\n",
       "      <td>NaN</td>\n",
       "      <td>NaN</td>\n",
       "      <td>Somewhat satisfied</td>\n",
       "      <td>Not very satisfied</td>\n",
       "      <td>Not at all satisfied</td>\n",
       "      <td>Very satisfied</td>\n",
       "      <td>Satisfied</td>\n",
       "      <td>Not very satisfied</td>\n",
       "      <td>NaN</td>\n",
       "      <td>NaN</td>\n",
       "      <td>NaN</td>\n",
       "      <td>NaN</td>\n",
       "      <td>NaN</td>\n",
       "      <td>NaN</td>\n",
       "      <td>NaN</td>\n",
       "      <td>NaN</td>\n",
       "      <td>NaN</td>\n",
       "      <td>NaN</td>\n",
       "      <td>NaN</td>\n",
       "      <td>I have created a CV or Developer Story on Stack Overflow</td>\n",
       "      <td>9.0</td>\n",
       "      <td>Desktop; iOS app</td>\n",
       "      <td>At least once each week</td>\n",
       "      <td>Haven't done at all</td>\n",
       "      <td>Once or twice</td>\n",
       "      <td>Haven't done at all</td>\n",
       "      <td>Haven't done at all</td>\n",
       "      <td>Several times</td>\n",
       "      <td>Several times</td>\n",
       "      <td>Once or twice</td>\n",
       "      <td>Somewhat agree</td>\n",
       "      <td>Strongly disagree</td>\n",
       "      <td>Strongly disagree</td>\n",
       "      <td>Strongly agree</td>\n",
       "      <td>Agree</td>\n",
       "      <td>Strongly agree</td>\n",
       "      <td>Strongly agree</td>\n",
       "      <td>Strongly disagree</td>\n",
       "      <td>Male</td>\n",
       "      <td>High school</td>\n",
       "      <td>White or of European descent</td>\n",
       "      <td>Strongly disagree</td>\n",
       "      <td>Strongly agree</td>\n",
       "      <td>Disagree</td>\n",
       "      <td>Strongly agree</td>\n",
       "      <td>NaN</td>\n",
       "      <td>NaN</td>\n",
       "    </tr>\n",
       "  </tbody>\n",
       "</table>\n",
       "</div>"
      ],
      "text/plain": [
       "           Professional ProgramHobby        Country University  \\\n",
       "Respondent                                                       \n",
       "1           Student      Yes, both    United States  No          \n",
       "\n",
       "                                  EmploymentStatus   FormalEducation  \\\n",
       "Respondent                                                             \n",
       "1           Not employed, and not looking for work  Secondary school   \n",
       "\n",
       "           MajorUndergrad HomeRemote CompanySize CompanyType  YearsProgram  \\\n",
       "Respondent                                                                   \n",
       "1           NaN            NaN        NaN         NaN         2 to 3 years   \n",
       "\n",
       "           YearsCodedJob YearsCodedJobPast DeveloperType WebDeveloperType  \\\n",
       "Respondent                                                                  \n",
       "1           NaN           NaN               NaN           NaN               \n",
       "\n",
       "           MobileDeveloperType NonDeveloperType  CareerSatisfaction  \\\n",
       "Respondent                                                            \n",
       "1           NaN                 NaN             NaN                   \n",
       "\n",
       "            JobSatisfaction ExCoderReturn ExCoderNotForMe ExCoderBalance  \\\n",
       "Respondent                                                                 \n",
       "1          NaN               NaN           NaN             NaN             \n",
       "\n",
       "           ExCoder10Years ExCoderBelonged ExCoderSkills ExCoderWillNotCode  \\\n",
       "Respondent                                                                   \n",
       "1           NaN            NaN             NaN           NaN                 \n",
       "\n",
       "           ExCoderActive                  PronounceGIF  ProblemSolving  \\\n",
       "Respondent                                                               \n",
       "1           NaN           With a soft \"g,\" like \"jiff\"  Strongly agree   \n",
       "\n",
       "            BuildingThings LearningNewTech BoringDetails     JobSecurity  \\\n",
       "Respondent                                                                 \n",
       "1           Strongly agree  Agree           Disagree      Strongly agree   \n",
       "\n",
       "           DiversityImportant AnnoyingUI FriendsDevelopers   RightWrongWay  \\\n",
       "Respondent                                                                   \n",
       "1           Agree              Agree      Disagree          Somewhat agree   \n",
       "\n",
       "           UnderstandComputers     SeriousWork InvestTimeTools  \\\n",
       "Respondent                                                       \n",
       "1           Disagree            Strongly agree  Strongly agree   \n",
       "\n",
       "                  WorkPayCare KinshipDevelopers ChallengeMyself CompetePeers  \\\n",
       "Respondent                                                                     \n",
       "1           Strongly disagree  Agree             Agree           Disagree      \n",
       "\n",
       "           ChangeWorld  \\\n",
       "Respondent               \n",
       "1           Agree        \n",
       "\n",
       "                                                        JobSeekingStatus  \\\n",
       "Respondent                                                                 \n",
       "1           I'm not actively looking, but I am open to new opportunities   \n",
       "\n",
       "            HoursPerWeek             LastNewJob AssessJobIndustry  \\\n",
       "Respondent                                                          \n",
       "1           0.0           Not applicable/ never  Very important     \n",
       "\n",
       "             AssessJobRole AssessJobExp   AssessJobDept   AssessJobTech  \\\n",
       "Respondent                                                                \n",
       "1           Very important  Important    Very important  Very important   \n",
       "\n",
       "           AssessJobProjects AssessJobCompensation AssessJobOffice  \\\n",
       "Respondent                                                           \n",
       "1           Very important    Important             Very important   \n",
       "\n",
       "           AssessJobCommute AssessJobRemote AssessJobLeaders  \\\n",
       "Respondent                                                     \n",
       "1           Very important   Very important  Very important    \n",
       "\n",
       "           AssessJobProfDevel  AssessJobDiversity    AssessJobProduct  \\\n",
       "Respondent                                                              \n",
       "1           Very important     Somewhat important  Not very important   \n",
       "\n",
       "             AssessJobFinances  \\\n",
       "Respondent                       \n",
       "1           Somewhat important   \n",
       "\n",
       "                                           ImportantBenefits ClickyKeys  \\\n",
       "Respondent                                                                \n",
       "1           Stock options; Vacation/days off; Remote options  Yes         \n",
       "\n",
       "           JobProfile ResumePrompted LearnedHiring ImportantHiringAlgorithms  \\\n",
       "Respondent                                                                     \n",
       "1           Other      NaN            NaN           Important                  \n",
       "\n",
       "           ImportantHiringTechExp ImportantHiringCommunication  \\\n",
       "Respondent                                                       \n",
       "1           Important              Important                     \n",
       "\n",
       "           ImportantHiringOpenSource ImportantHiringPMExp  \\\n",
       "Respondent                                                  \n",
       "1           Somewhat important        Important             \n",
       "\n",
       "           ImportantHiringCompanies ImportantHiringTitles  \\\n",
       "Respondent                                                  \n",
       "1           Not very important       Not very important     \n",
       "\n",
       "           ImportantHiringEducation  ImportantHiringRep  \\\n",
       "Respondent                                                \n",
       "1           Not at all important     Somewhat important   \n",
       "\n",
       "           ImportantHiringGettingThingsDone Currency Overpaid TabsSpaces  \\\n",
       "Respondent                                                                 \n",
       "1           Very important                   NaN      NaN      Tabs        \n",
       "\n",
       "           EducationImportant                            EducationTypes  \\\n",
       "Respondent                                                                \n",
       "1           NaN                Online course; Open source contributions   \n",
       "\n",
       "           SelfTaughtTypes TimeAfterBootcamp CousinEducation WorkStart  \\\n",
       "Respondent                                                               \n",
       "1           NaN             NaN               NaN             6:00 AM    \n",
       "\n",
       "           HaveWorkedLanguage WantWorkLanguage HaveWorkedFramework  \\\n",
       "Respondent                                                           \n",
       "1           Swift              Swift            NaN                  \n",
       "\n",
       "           WantWorkFramework HaveWorkedDatabase WantWorkDatabase  \\\n",
       "Respondent                                                         \n",
       "1           NaN               NaN                NaN               \n",
       "\n",
       "           HaveWorkedPlatform WantWorkPlatform          IDE  \\\n",
       "Respondent                                                    \n",
       "1           iOS                iOS              Atom; Xcode   \n",
       "\n",
       "           AuditoryEnvironment Methodology VersionControl CheckInCode ShipIt  \\\n",
       "Respondent                                                                     \n",
       "1           Turn on some music  NaN         NaN            NaN         NaN     \n",
       "\n",
       "           OtherPeoplesCode ProjectManagement EnjoyDebugging InTheZone  \\\n",
       "Respondent                                                               \n",
       "1           NaN              NaN               NaN            NaN        \n",
       "\n",
       "           DifficultCommunication CollaborateRemote MetricAssess  \\\n",
       "Respondent                                                         \n",
       "1           NaN                    NaN               NaN           \n",
       "\n",
       "           EquipmentSatisfiedMonitors EquipmentSatisfiedCPU  \\\n",
       "Respondent                                                    \n",
       "1           Somewhat satisfied         Not very satisfied     \n",
       "\n",
       "           EquipmentSatisfiedRAM EquipmentSatisfiedStorage  \\\n",
       "Respondent                                                   \n",
       "1           Not at all satisfied  Very satisfied             \n",
       "\n",
       "           EquipmentSatisfiedRW   InfluenceInternet InfluenceWorkstation  \\\n",
       "Respondent                                                                 \n",
       "1           Satisfied            Not very satisfied  NaN                   \n",
       "\n",
       "           InfluenceHardware InfluenceServers InfluenceTechStack  \\\n",
       "Respondent                                                         \n",
       "1           NaN               NaN              NaN                 \n",
       "\n",
       "           InfluenceDeptTech InfluenceVizTools InfluenceDatabase  \\\n",
       "Respondent                                                         \n",
       "1           NaN               NaN               NaN                \n",
       "\n",
       "           InfluenceCloud InfluenceConsultants InfluenceRecruitment  \\\n",
       "Respondent                                                            \n",
       "1           NaN            NaN                  NaN                   \n",
       "\n",
       "           InfluenceCommunication  \\\n",
       "Respondent                          \n",
       "1           NaN                     \n",
       "\n",
       "                                              StackOverflowDescribes  \\\n",
       "Respondent                                                             \n",
       "1           I have created a CV or Developer Story on Stack Overflow   \n",
       "\n",
       "            StackOverflowSatisfaction StackOverflowDevices  \\\n",
       "Respondent                                                   \n",
       "1           9.0                        Desktop; iOS app      \n",
       "\n",
       "           StackOverflowFoundAnswer StackOverflowCopiedCode  \\\n",
       "Respondent                                                    \n",
       "1           At least once each week  Haven't done at all      \n",
       "\n",
       "           StackOverflowJobListing StackOverflowCompanyPage  \\\n",
       "Respondent                                                    \n",
       "1           Once or twice           Haven't done at all       \n",
       "\n",
       "           StackOverflowJobSearch StackOverflowNewQuestion  \\\n",
       "Respondent                                                   \n",
       "1           Haven't done at all    Several times             \n",
       "\n",
       "           StackOverflowAnswer StackOverflowMetaChat StackOverflowAdsRelevant  \\\n",
       "Respondent                                                                      \n",
       "1           Several times       Once or twice         Somewhat agree            \n",
       "\n",
       "           StackOverflowAdsDistracting StackOverflowModeration  \\\n",
       "Respondent                                                       \n",
       "1           Strongly disagree           Strongly disagree        \n",
       "\n",
       "           StackOverflowCommunity StackOverflowHelpful StackOverflowBetter  \\\n",
       "Respondent                                                                   \n",
       "1           Strongly agree         Agree                Strongly agree       \n",
       "\n",
       "           StackOverflowWhatDo StackOverflowMakeMoney Gender  \\\n",
       "Respondent                                                     \n",
       "1           Strongly agree      Strongly disagree      Male    \n",
       "\n",
       "           HighestEducationParents                          Race  \\\n",
       "Respondent                                                         \n",
       "1           High school             White or of European descent   \n",
       "\n",
       "                   SurveyLong QuestionsInteresting QuestionsConfusing  \\\n",
       "Respondent                                                              \n",
       "1           Strongly disagree  Strongly agree       Disagree            \n",
       "\n",
       "           InterestedAnswers  Salary  ExpectedSalary  \n",
       "Respondent                                            \n",
       "1           Strongly agree   NaN     NaN              "
      ]
     },
     "execution_count": 10,
     "metadata": {},
     "output_type": "execute_result"
    }
   ],
   "source": [
    "df.head(1)"
   ]
  },
  {
   "cell_type": "markdown",
   "metadata": {},
   "source": [
    "### Step 1: We dropped the columns that we believe will not be relevant to our analysis and where the number of Nan values are more than 40,000  \n"
   ]
  },
  {
   "cell_type": "code",
   "execution_count": 11,
   "metadata": {},
   "outputs": [],
   "source": [
    "df.drop(columns=['ProgramHobby','YearsCodedJobPast','ExCoderReturn','ExCoderNotForMe','ExCoderBalance','ExCoder10Years',\\\n",
    "                 'ExCoderBelonged','ExCoderSkills','ExCoderWillNotCode','ExCoderActive','ClickyKeys',\\\n",
    "                'Overpaid','TimeAfterBootcamp','VersionControl','CheckInCode','ShipIt','OtherPeoplesCode',\\\n",
    "                'OtherPeoplesCode','ProjectManagement','EnjoyDebugging','InTheZone','DifficultCommunication',\\\n",
    "                'StackOverflowModeration','StackOverflowCommunity','StackOverflowHelpful','StackOverflowBetter',\\\n",
    "                'StackOverflowWhatDo','StackOverflowMakeMoney','SurveyLong','QuestionsInteresting',\\\n",
    "                 'QuestionsConfusing','InterestedAnswers','ExpectedSalary','PronounceGIF','TabsSpaces','IDE',\\\n",
    "                'Methodology','Currency','HaveWorkedFramework','WantWorkFramework',\\\n",
    "                'HaveWorkedDatabase','WantWorkDatabase','WantWorkPlatform','MobileDeveloperType','WebDeveloperType',\\\n",
    "                'EquipmentSatisfiedMonitors','EquipmentSatisfiedCPU','EquipmentSatisfiedRAM','EquipmentSatisfiedStorage',\\\n",
    "                 'EquipmentSatisfiedRW','InfluenceInternet','InfluenceWorkstation','InfluenceHardware','InfluenceServers',\\\n",
    "                 'InfluenceTechStack','InfluenceDeptTech','InfluenceVizTools','InfluenceDatabase','InfluenceCloud',\\\n",
    "                 'InfluenceConsultants','InfluenceRecruitment','InfluenceCommunication'],inplace=True)"
   ]
  },
  {
   "cell_type": "code",
   "execution_count": 12,
   "metadata": {},
   "outputs": [
    {
     "data": {
      "text/plain": [
       "(51392, 92)"
      ]
     },
     "execution_count": 12,
     "metadata": {},
     "output_type": "execute_result"
    }
   ],
   "source": [
    "df.shape"
   ]
  },
  {
   "cell_type": "markdown",
   "metadata": {},
   "source": [
    "### Step 2:  Replace the columns with Likert scale answers into numbers ranging from 1 to 5, with 5 being the highest rating:\n",
    "<ul>\n",
    "    <li>Strongly agree/ Very important/ Very satisfied/ I am the final decision maker/ Several times = <b> 5 </b>\n",
    "    <li>Agree/ Important/ Satisfied/ A lot of influence/ At least once each week = <b> 4</b>\n",
    "    <li>Somewhat agree/ Somewhat important/ Somewhat satisfied/ Some influence/ At least once each day = <b> 3 </b>\n",
    "    <li>Disagree/ Not very important/ Not very satisfied/ Not much influence/ Once or twice = <b> 2 </b>\n",
    "    <li>Strongly disagree/ Not at all important/ Not at all satisfied/ No influence at all/ Haven't done at all = <b> 1</b>\n",
    "</ul>\n",
    "\n",
    "Nan = 0\n"
   ]
  },
  {
   "cell_type": "code",
   "execution_count": 13,
   "metadata": {},
   "outputs": [],
   "source": [
    "df.replace({'Strongly agree':5.0, 'Very important':5.0, 'Very satisfied':5.0, 'I am the final decision maker':5.0,\\\n",
    "           'Several times':5.0,\\\n",
    "            'Agree':4.0, 'Important':4.0, 'Satisfied':4.0, 'A lot of influence':4.0,'At least once each week':4.0,\\\n",
    "           'Somewhat agree':3.0, 'Somewhat important':3.0, 'Somewhat satisfied':3.0, 'Some influence':3.0,\\\n",
    "            'At least once each day':3.0,\\\n",
    "           'Disagree':2.0, 'Not very important':2.0, 'Not very satisfied':2.0, 'Not much influence':2.0,\\\n",
    "            'Once or twice':2.0,\\\n",
    "           'Strongly disagree':1.0, 'Not at all important':1.0, 'Not at all satisfied':1.0,\\\n",
    "            'No influence at all':1.0, 'Haven\\'t done at all':1.0},inplace=True)\n"
   ]
  },
  {
   "cell_type": "markdown",
   "metadata": {},
   "source": [
    "### Step 3:  Cleaning the various text columns for improving readability and analysis; and converted text values into numbers wherever possible\n"
   ]
  },
  {
   "cell_type": "code",
   "execution_count": 14,
   "metadata": {},
   "outputs": [],
   "source": [
    "#Column: Profession\n",
    "\n",
    "df.Professional.replace({'Professional developer':'Developer',\\\n",
    "            'Professional non-developer who sometimes writes code':'Non-Developer',\\\n",
    "           'Used to be a professional developer':'Ex-Developer',\\\n",
    "           'None of these':'None'},inplace=True)"
   ]
  },
  {
   "cell_type": "code",
   "execution_count": 15,
   "metadata": {},
   "outputs": [],
   "source": [
    "# column: University\n",
    "def Univ_values(value):\n",
    "    if value == 'No':\n",
    "        return 0\n",
    "    elif value == 'Yes, full-time':\n",
    "        return 1\n",
    "    elif value == 'Yes, part-time':\n",
    "        return 0.5\n",
    "    else:\n",
    "        return ('None')\n",
    "    \n",
    "\n",
    "\n",
    "df['University'] = df.University.apply(Univ_values)"
   ]
  },
  {
   "cell_type": "code",
   "execution_count": 16,
   "metadata": {},
   "outputs": [],
   "source": [
    "# Column: EmploymentStatus\n",
    "\n",
    "df.EmploymentStatus.replace({'Not employed, and not looking for work':'NotEmployedNotLooking',\\\n",
    "            'Independent contractor, freelancer, or self-employed':'Self-Employed',\\\n",
    "            'Not employed, but looking for work':'NotEmployedLooking',\\\n",
    "            'I prefer not to say':0},inplace=True)"
   ]
  },
  {
   "cell_type": "code",
   "execution_count": 17,
   "metadata": {},
   "outputs": [],
   "source": [
    "# Column: MajorUndergrad\n",
    "\n",
    "df.MajorUndergrad.replace({'Computer science or software engineering':1, \\\n",
    "           'Computer engineering or electrical/electronics engineering':1,\\\n",
    "           'Computer programming or Web development':1,\\\n",
    "           'Information technology, networking, or system administration':1,\\\n",
    "           'Management information systems':1},inplace=True)\n",
    "\n",
    "def Undergrad(x):\n",
    "    if x == 1:\n",
    "        return 1\n",
    "    else:\n",
    "        return 0\n",
    "    \n",
    "df['MajorUndergrad'] = df.MajorUndergrad.apply(Undergrad)    "
   ]
  },
  {
   "cell_type": "code",
   "execution_count": 18,
   "metadata": {},
   "outputs": [],
   "source": [
    "# Column: HomeRemote\n",
    "def remote(x):\n",
    "    if (x == 'More than half, but not all, the time'): \n",
    "        return 1\n",
    "    elif (x=='All or almost all the time (I\\'m full-time remote'):\n",
    "        return 1\n",
    "    elif (x=='About half the time'):\n",
    "        return 1\n",
    "    else:\n",
    "        return 0\n",
    "\n",
    "\n",
    "df['HomeRemote'] = df.HomeRemote.apply(remote)"
   ]
  },
  {
   "cell_type": "code",
   "execution_count": 19,
   "metadata": {},
   "outputs": [],
   "source": [
    "# Column: CompanySize\n",
    "\n",
    "df.CompanySize.replace({'Fewer than 10 employees':'0 - 10', '10 to 19 employees':'10-19', '20 to 99 employees':'20-99',\n",
    "           '100 to 499 employees':'100-499','500 to 999 employees':'500-999','1,000 to 4,999 employees':'1000-4999',\\\n",
    "           '5,000 to 9,999 employees':'5000-9900','10,000 or more employees':'>=10K','I don\\'t know':0,\\\n",
    "           'I prefer not to answer':0},inplace=True)\n",
    "\n",
    "df.CompanySize.fillna(value=0,inplace=True)"
   ]
  },
  {
   "cell_type": "code",
   "execution_count": 20,
   "metadata": {},
   "outputs": [],
   "source": [
    "# Column: CompanyType\n",
    "\n",
    "df.CompanyType.replace({'Privately-held limited company, not in startup mode':'Private',\\\n",
    "                       'Publicly-traded corporation':'Public', \\\n",
    "                        'Sole proprietorship or partnership, not in startup mode':'Private',\\\n",
    "                       'Government agency or public school/university': 'Govt/NotforProfit',\n",
    "                       'Venture-funded startup':'Startup', 'Pre-series A startup':'Startup',\\\n",
    "                       'Non-profit/non-governmental organization or private school/university':'Govt/NotforProfit',\\\n",
    "                       'State-owned company':'Govt/NotforProfit', 'Something else':0,'I don\\'t know':0,\\\n",
    "                       'I prefer not to answer':0},inplace=True)\n",
    "\n",
    "df.CompanyType.fillna(value=0,inplace=True)"
   ]
  },
  {
   "cell_type": "code",
   "execution_count": 21,
   "metadata": {},
   "outputs": [],
   "source": [
    "# Column: YearsProgram\n",
    "\n",
    "df.YearsProgram.replace({'Less than a year': 1,'1 to 2 years': 2,'2 to 3 years':3,'3 to 4 years':4,'4 to 5 years':5,\\\n",
    "                         '5 to 6 years':6,'6 to 7 years':7,'7 to 8 years':8,'8 to 9 years':9,'9 to 10 years':10,\\\n",
    "                         '10 to 11 years':11,'11 to 12 years':12,'12 to 13 years':13,'13 to 14 years':14,\\\n",
    "                         '14 to 15 years':15,'15 to 16 years':16,'16 to 17 years':17,'17 to 18 years':18,\\\n",
    "                         '18 to 19 years':19,'19 to 20 years':20,'20 or more years':20},inplace=True)\n",
    "df.YearsProgram.fillna(0,inplace=True)"
   ]
  },
  {
   "cell_type": "code",
   "execution_count": 22,
   "metadata": {},
   "outputs": [],
   "source": [
    "# Column: YearsCodedJob\n",
    "\n",
    "df.YearsCodedJob.replace({'Less than a year': 1,'1 to 2 years': 2,'2 to 3 years':3,'3 to 4 years':4,'4 to 5 years':5,\\\n",
    "                         '5 to 6 years':6,'6 to 7 years':7,'7 to 8 years':8,'8 to 9 years':9,'9 to 10 years':10,\\\n",
    "                         '10 to 11 years':11,'11 to 12 years':12,'12 to 13 years':13,'13 to 14 years':14,\\\n",
    "                         '14 to 15 years':15,'15 to 16 years':16,'16 to 17 years':17,'17 to 18 years':18,\\\n",
    "                         '18 to 19 years':19,'19 to 20 years':20,'20 or more years':20},inplace=True)\n",
    "df.YearsCodedJob.fillna(0,inplace=True)"
   ]
  },
  {
   "cell_type": "code",
   "execution_count": 23,
   "metadata": {},
   "outputs": [],
   "source": [
    "#Column : DeveloperType\n",
    "\n",
    "df['DeveloperType'] = df['DeveloperType'].astype(str)\n",
    "\n",
    "role = df.DeveloperType.apply(lambda x: x.split(';'))\n",
    "\n",
    "df['DeveloperRole'] = role.apply(lambda x: x[0])\n",
    "df['DeveloperRole'].replace({'Developer with a statistics or mathematics background':'DS_ML_Dev',\n",
    "                            'Data scientist':'DS_ML_Dev','Machine learning specialist':'DS_ML_Dev',\n",
    "                            'DevOps specialist':'DevOps_Dev','Database administrator':'DevOps_Dev',\\\n",
    "                             'Systems administrator':'DevOps_Dev',\n",
    "                             'Embedded applications/devices developer':'Embedded_Dev'},inplace=True)\n",
    "df['DeveloperRole'].replace(to_replace='nan', value='None',inplace=True)\n",
    "                                                               \n",
    "\n",
    "df.drop('DeveloperType', axis=1, inplace=True)"
   ]
  },
  {
   "cell_type": "code",
   "execution_count": 24,
   "metadata": {},
   "outputs": [],
   "source": [
    "# Column: JobSeekingStatus\n",
    "\n",
    "df.JobSeekingStatus.replace({'I\\'m not actively looking, but I am open to new opportunities':0.5,\n",
    "                            'I am not interested in new job opportunities':0,\n",
    "                            'I am actively looking for a job':1},inplace=True)\n",
    "\n",
    "df.JobSeekingStatus.fillna(0,inplace=True)"
   ]
  },
  {
   "cell_type": "code",
   "execution_count": 25,
   "metadata": {},
   "outputs": [],
   "source": [
    "# Column : Gender  \n",
    "df['Gender'] = df.Gender.apply(lambda x : 'Male' if x=='Male' else 'Female' if x=='Female' else 'Other')\n"
   ]
  },
  {
   "cell_type": "code",
   "execution_count": 26,
   "metadata": {},
   "outputs": [],
   "source": [
    "# Column : Race\n",
    "\n",
    "def Race_type(x):\n",
    "    if x == 'White or of European descent': \n",
    "        return 'White/European'\n",
    "    elif x == 'South Asian':\n",
    "        return 'South Asian'\n",
    "    elif x == 'Hispanic or Latino/Latina':\n",
    "        return 'Hispanic'\n",
    "    elif x == 'East Asian':\n",
    "        return 'East Asian'\n",
    "    elif x == 'Middle Eastern':\n",
    "        return 'Middle Eastern'\n",
    "    elif x == 'Black or of African descent':\n",
    "        return 'African'\n",
    "    else:\n",
    "        return 'Others' \n",
    "\n",
    "    \n",
    "df['Race'] = df.Race.apply(Race_type)    "
   ]
  },
  {
   "cell_type": "code",
   "execution_count": 27,
   "metadata": {
    "scrolled": true
   },
   "outputs": [],
   "source": [
    "# Column : LearnedHiring\n",
    "\n",
    "df['LearnedHiring'] = df['LearnedHiring'].astype(str)\n",
    "\n",
    "def Hiring(source):\n",
    "    if 'family member' in source:\n",
    "        return 'Network'\n",
    "    elif 'recruiter' in source:\n",
    "        return 'Recruiter'\n",
    "    elif 'job board' in source:\n",
    "        return 'Job Board'\n",
    "    elif 'career fair' in source:\n",
    "        return 'Career Fair'\n",
    "    elif 'Web site' in source:\n",
    "        return 'Company Website'\n",
    "    else:\n",
    "        return 'Others'\n",
    "    \n",
    "df['JobSearch_Source'] = df.LearnedHiring.apply(Hiring)"
   ]
  },
  {
   "cell_type": "code",
   "execution_count": 28,
   "metadata": {},
   "outputs": [],
   "source": [
    "# Column: AuditoryEnvironment\n",
    "df.AuditoryEnvironment.replace({'Turn on some music':'Music',\n",
    "                               'Keep the room absolutely quiet':'Silence',\n",
    "                               'Put on some ambient sounds (e.g. whale songs, forest sounds)':'White Noise',\n",
    "                                'Something else':'Others',\n",
    "                                'Put on a movie or TV show':'TV/Movie',\n",
    "                                'Turn on the news or talk radio':'Radio/News'\n",
    "                               },inplace=True)\n",
    "\n",
    "df.AuditoryEnvironment.fillna(0,inplace=True)"
   ]
  },
  {
   "cell_type": "markdown",
   "metadata": {},
   "source": [
    "### Step 4: Creating new columns in the dataframe for the following lang proficiencies: <i> JavaScript, Java, SQL, Python, C# </i>"
   ]
  },
  {
   "cell_type": "code",
   "execution_count": 29,
   "metadata": {},
   "outputs": [],
   "source": [
    "# Column: HaveWorkedLanguage\n",
    "\n",
    "df['HaveWorkedLanguage'] = df['HaveWorkedLanguage'].astype(str)\n",
    "\n",
    "#Replace all JavaScript with JScript \n",
    "df['HaveWorkedLanguage'] = df.HaveWorkedLanguage.apply(lambda x: 'JScript' if 'JavaScript' in x else x)\n",
    "\n",
    "# Create new columns for each language proficiency\n",
    "df['JavaScript'] = (df.HaveWorkedLanguage.str.contains('JScript')) * 1.0\n",
    "df['Java'] = (df.HaveWorkedLanguage.str.contains('Java')) * 1.0\n",
    "df['SQL'] = (df.HaveWorkedLanguage.str.contains('SQL')) * 1.0\n",
    "df['Python'] = (df.HaveWorkedLanguage.str.contains('Python')) * 1.0\n",
    "df['C#'] = (df.HaveWorkedLanguage.str.contains('C#')) * 1.0"
   ]
  },
  {
   "cell_type": "code",
   "execution_count": 30,
   "metadata": {},
   "outputs": [],
   "source": [
    "# Column: WantWorkLanguage\n",
    "\n",
    "df['WantWorkLanguage'] = df['WantWorkLanguage'].astype(str)\n",
    "\n",
    "#Replace all JavaScript with JScript \n",
    "df['WantWorkLanguage'] = df.WantWorkLanguage.apply(lambda x: 'JScript' if 'JavaScript' in x else x)\n",
    "\n",
    "# Create new columns for each want to work language \n",
    "df['WantWork_JavaScript'] = (df.WantWorkLanguage.str.contains('JScript')) * 1.0\n",
    "df['WantWork_Python'] = (df.WantWorkLanguage.str.contains('Python')) * 1.0\n",
    "df['WantWork_SQL'] = (df.WantWorkLanguage.str.contains('SQL')) * 1.0\n",
    "df['WantWork_Java'] = (df.WantWorkLanguage.str.contains('Java')) * 1.0\n",
    "df['WantWork_C#'] = (df.WantWorkLanguage.str.contains('C#')) * 1.0"
   ]
  },
  {
   "cell_type": "markdown",
   "metadata": {},
   "source": [
    "### Step 5: Creating new columns to enumerate Formal Education,  various self education modes and highest education of parents"
   ]
  },
  {
   "cell_type": "code",
   "execution_count": 31,
   "metadata": {},
   "outputs": [],
   "source": [
    "# Column: FormalEducation \n",
    "\n",
    "df.loc[df.FormalEducation == 'I never completed any formal education','EducationNum'] = 0\n",
    "df.loc[df.FormalEducation == 'I prefer not to answer','EducationNum'] = 0\n",
    "df.loc[df.FormalEducation == 'Primary/elementary school','EducationNum'] = 1\n",
    "df.loc[df.FormalEducation == 'Secondary school','EducationNum'] = 2\n",
    "df.loc[df.FormalEducation == 'Some college/university study without earning a bachelor\\'s degree','EducationNum'] = 3\n",
    "df.loc[df.FormalEducation == 'Bachelor\\'s degree','EducationNum'] = 4\n",
    "df.loc[df.FormalEducation == 'Master\\'s degree','EducationNum'] = 5\n",
    "df.loc[df.FormalEducation == 'Professional degree','EducationNum'] = 6 \n",
    "df.loc[df.FormalEducation == 'Doctoral degree','EducationNum'] = 7\n",
    "\n",
    "df.EducationNum.fillna(0,inplace=True)"
   ]
  },
  {
   "cell_type": "code",
   "execution_count": 32,
   "metadata": {},
   "outputs": [],
   "source": [
    "# Column: EducationTypes\n",
    "df['EducationTypes'] = df['EducationTypes'].astype(str)\n",
    "\n",
    "df['Edu_Self'] = (df.EducationTypes.str.contains('Self')) * 1.0\n",
    "df['Edu_Online'] = (df.EducationTypes.str.contains('Online')) * 1.0\n",
    "df['Edu_OpenSource'] = (df.EducationTypes.str.contains('Open')) * 1.0\n",
    "df['Edu_OTJ'] = (df.EducationTypes.str.contains('training')) * 1.0\n",
    "df['Edu_Hack'] = (df.EducationTypes.str.contains('Hackathon')) * 1.0\n",
    "df['Edu_CodeComp'] = (df.EducationTypes.str.contains('Coding')) * 1.0\n",
    "df['Edu_Parttime'] = (df.EducationTypes.str.contains('Part')) * 1.0\n",
    "df['Edu_Cert'] = (df.EducationTypes.str.contains('certification')) * 1.0\n",
    "df['Edu_BootC'] = (df.EducationTypes.str.contains('Bootcamp')) * 1.0\n",
    "\n",
    "df.drop('EducationTypes', axis=1, inplace=True)"
   ]
  },
  {
   "cell_type": "code",
   "execution_count": 33,
   "metadata": {},
   "outputs": [],
   "source": [
    "# Column: HighestEducationParents\n",
    "\n",
    "df.loc[df.HighestEducationParents == 'I don\\'t know/not sure','Parent_EducationNum'] = 0\n",
    "df.loc[df.HighestEducationParents == 'I prefer not to answer','Parent_EducationNum'] = 0\n",
    "df.loc[df.HighestEducationParents == 'No education','Parent_EducationNum'] = 0\n",
    "df.loc[df.HighestEducationParents == 'Primary/elementary school','Parent_EducationNum'] = 1\n",
    "df.loc[df.HighestEducationParents == 'High school','Parent_EducationNum'] = 2\n",
    "df.loc[df.HighestEducationParents == 'Some college/university study, no bachelor\\'s degree','Parent_EducationNum'] = 3\n",
    "df.loc[df.HighestEducationParents == 'A bachelor\\'s degree','Parent_EducationNum'] = 4\n",
    "df.loc[df.HighestEducationParents == 'A master\\'s degree','Parent_EducationNum'] = 5\n",
    "df.loc[df.HighestEducationParents == 'A professional degree','Parent_EducationNum'] = 6 \n",
    "df.loc[df.HighestEducationParents == 'A doctoral degree','Parent_EducationNum'] = 7\n",
    "\n",
    "df.Parent_EducationNum.fillna(0,inplace=True)"
   ]
  },
  {
   "cell_type": "markdown",
   "metadata": {},
   "source": [
    "### Step 6: Converting all Nan values in int/float columns to 0"
   ]
  },
  {
   "cell_type": "code",
   "execution_count": 34,
   "metadata": {},
   "outputs": [],
   "source": [
    "for col in df:\n",
    "    dt = df[col].dtype \n",
    "    if dt == int or dt == float:\n",
    "        df[col].fillna(0,inplace=True)"
   ]
  },
  {
   "cell_type": "code",
   "execution_count": 35,
   "metadata": {},
   "outputs": [],
   "source": [
    "# Writing the cleaned dataframe to a new file.\n",
    "df.reset_index(inplace=True)\n",
    "df.to_csv('cleaned_survey_results.csv')"
   ]
  },
  {
   "cell_type": "code",
   "execution_count": 36,
   "metadata": {},
   "outputs": [
    {
     "data": {
      "text/html": [
       "<div>\n",
       "<style scoped>\n",
       "    .dataframe tbody tr th:only-of-type {\n",
       "        vertical-align: middle;\n",
       "    }\n",
       "\n",
       "    .dataframe tbody tr th {\n",
       "        vertical-align: top;\n",
       "    }\n",
       "\n",
       "    .dataframe thead th {\n",
       "        text-align: right;\n",
       "    }\n",
       "</style>\n",
       "<table border=\"1\" class=\"dataframe\">\n",
       "  <thead>\n",
       "    <tr style=\"text-align: right;\">\n",
       "      <th></th>\n",
       "      <th>Respondent</th>\n",
       "      <th>Professional</th>\n",
       "      <th>Country</th>\n",
       "      <th>University</th>\n",
       "      <th>EmploymentStatus</th>\n",
       "      <th>FormalEducation</th>\n",
       "      <th>MajorUndergrad</th>\n",
       "      <th>HomeRemote</th>\n",
       "      <th>CompanySize</th>\n",
       "      <th>CompanyType</th>\n",
       "      <th>YearsProgram</th>\n",
       "      <th>YearsCodedJob</th>\n",
       "      <th>NonDeveloperType</th>\n",
       "      <th>CareerSatisfaction</th>\n",
       "      <th>JobSatisfaction</th>\n",
       "      <th>ProblemSolving</th>\n",
       "      <th>BuildingThings</th>\n",
       "      <th>LearningNewTech</th>\n",
       "      <th>BoringDetails</th>\n",
       "      <th>JobSecurity</th>\n",
       "      <th>DiversityImportant</th>\n",
       "      <th>AnnoyingUI</th>\n",
       "      <th>FriendsDevelopers</th>\n",
       "      <th>RightWrongWay</th>\n",
       "      <th>UnderstandComputers</th>\n",
       "      <th>SeriousWork</th>\n",
       "      <th>InvestTimeTools</th>\n",
       "      <th>WorkPayCare</th>\n",
       "      <th>KinshipDevelopers</th>\n",
       "      <th>ChallengeMyself</th>\n",
       "      <th>CompetePeers</th>\n",
       "      <th>ChangeWorld</th>\n",
       "      <th>JobSeekingStatus</th>\n",
       "      <th>HoursPerWeek</th>\n",
       "      <th>LastNewJob</th>\n",
       "      <th>AssessJobIndustry</th>\n",
       "      <th>AssessJobRole</th>\n",
       "      <th>AssessJobExp</th>\n",
       "      <th>AssessJobDept</th>\n",
       "      <th>AssessJobTech</th>\n",
       "      <th>AssessJobProjects</th>\n",
       "      <th>AssessJobCompensation</th>\n",
       "      <th>AssessJobOffice</th>\n",
       "      <th>AssessJobCommute</th>\n",
       "      <th>AssessJobRemote</th>\n",
       "      <th>AssessJobLeaders</th>\n",
       "      <th>AssessJobProfDevel</th>\n",
       "      <th>AssessJobDiversity</th>\n",
       "      <th>AssessJobProduct</th>\n",
       "      <th>AssessJobFinances</th>\n",
       "      <th>ImportantBenefits</th>\n",
       "      <th>JobProfile</th>\n",
       "      <th>ResumePrompted</th>\n",
       "      <th>LearnedHiring</th>\n",
       "      <th>ImportantHiringAlgorithms</th>\n",
       "      <th>ImportantHiringTechExp</th>\n",
       "      <th>ImportantHiringCommunication</th>\n",
       "      <th>ImportantHiringOpenSource</th>\n",
       "      <th>ImportantHiringPMExp</th>\n",
       "      <th>ImportantHiringCompanies</th>\n",
       "      <th>ImportantHiringTitles</th>\n",
       "      <th>ImportantHiringEducation</th>\n",
       "      <th>ImportantHiringRep</th>\n",
       "      <th>ImportantHiringGettingThingsDone</th>\n",
       "      <th>EducationImportant</th>\n",
       "      <th>SelfTaughtTypes</th>\n",
       "      <th>CousinEducation</th>\n",
       "      <th>WorkStart</th>\n",
       "      <th>HaveWorkedLanguage</th>\n",
       "      <th>WantWorkLanguage</th>\n",
       "      <th>HaveWorkedPlatform</th>\n",
       "      <th>AuditoryEnvironment</th>\n",
       "      <th>CollaborateRemote</th>\n",
       "      <th>MetricAssess</th>\n",
       "      <th>StackOverflowDescribes</th>\n",
       "      <th>StackOverflowSatisfaction</th>\n",
       "      <th>StackOverflowDevices</th>\n",
       "      <th>StackOverflowFoundAnswer</th>\n",
       "      <th>StackOverflowCopiedCode</th>\n",
       "      <th>StackOverflowJobListing</th>\n",
       "      <th>StackOverflowCompanyPage</th>\n",
       "      <th>StackOverflowJobSearch</th>\n",
       "      <th>StackOverflowNewQuestion</th>\n",
       "      <th>StackOverflowAnswer</th>\n",
       "      <th>StackOverflowMetaChat</th>\n",
       "      <th>StackOverflowAdsRelevant</th>\n",
       "      <th>StackOverflowAdsDistracting</th>\n",
       "      <th>Gender</th>\n",
       "      <th>HighestEducationParents</th>\n",
       "      <th>Race</th>\n",
       "      <th>Salary</th>\n",
       "      <th>DeveloperRole</th>\n",
       "      <th>JobSearch_Source</th>\n",
       "      <th>JavaScript</th>\n",
       "      <th>Java</th>\n",
       "      <th>SQL</th>\n",
       "      <th>Python</th>\n",
       "      <th>C#</th>\n",
       "      <th>WantWork_JavaScript</th>\n",
       "      <th>WantWork_Python</th>\n",
       "      <th>WantWork_SQL</th>\n",
       "      <th>WantWork_Java</th>\n",
       "      <th>WantWork_C#</th>\n",
       "      <th>EducationNum</th>\n",
       "      <th>Edu_Self</th>\n",
       "      <th>Edu_Online</th>\n",
       "      <th>Edu_OpenSource</th>\n",
       "      <th>Edu_OTJ</th>\n",
       "      <th>Edu_Hack</th>\n",
       "      <th>Edu_CodeComp</th>\n",
       "      <th>Edu_Parttime</th>\n",
       "      <th>Edu_Cert</th>\n",
       "      <th>Edu_BootC</th>\n",
       "      <th>Parent_EducationNum</th>\n",
       "    </tr>\n",
       "  </thead>\n",
       "  <tbody>\n",
       "    <tr>\n",
       "      <th>0</th>\n",
       "      <td>1</td>\n",
       "      <td>Student</td>\n",
       "      <td>United States</td>\n",
       "      <td>0</td>\n",
       "      <td>NotEmployedNotLooking</td>\n",
       "      <td>Secondary school</td>\n",
       "      <td>0</td>\n",
       "      <td>0</td>\n",
       "      <td>0</td>\n",
       "      <td>0</td>\n",
       "      <td>3.0</td>\n",
       "      <td>0.0</td>\n",
       "      <td>NaN</td>\n",
       "      <td>0.0</td>\n",
       "      <td>0.0</td>\n",
       "      <td>5.0</td>\n",
       "      <td>5.0</td>\n",
       "      <td>4.0</td>\n",
       "      <td>2.0</td>\n",
       "      <td>5.0</td>\n",
       "      <td>4.0</td>\n",
       "      <td>4.0</td>\n",
       "      <td>2.0</td>\n",
       "      <td>3.0</td>\n",
       "      <td>2.0</td>\n",
       "      <td>5.0</td>\n",
       "      <td>5.0</td>\n",
       "      <td>1.0</td>\n",
       "      <td>4.0</td>\n",
       "      <td>4.0</td>\n",
       "      <td>2.0</td>\n",
       "      <td>4.0</td>\n",
       "      <td>0.5</td>\n",
       "      <td>0.0</td>\n",
       "      <td>Not applicable/ never</td>\n",
       "      <td>5.0</td>\n",
       "      <td>5.0</td>\n",
       "      <td>4.0</td>\n",
       "      <td>5.0</td>\n",
       "      <td>5.0</td>\n",
       "      <td>5.0</td>\n",
       "      <td>4.0</td>\n",
       "      <td>5.0</td>\n",
       "      <td>5.0</td>\n",
       "      <td>5.0</td>\n",
       "      <td>5.0</td>\n",
       "      <td>5.0</td>\n",
       "      <td>3.0</td>\n",
       "      <td>2.0</td>\n",
       "      <td>3.0</td>\n",
       "      <td>Stock options; Vacation/days off; Remote options</td>\n",
       "      <td>Other</td>\n",
       "      <td>NaN</td>\n",
       "      <td>nan</td>\n",
       "      <td>4.0</td>\n",
       "      <td>4.0</td>\n",
       "      <td>4.0</td>\n",
       "      <td>3.0</td>\n",
       "      <td>4.0</td>\n",
       "      <td>2.0</td>\n",
       "      <td>2.0</td>\n",
       "      <td>1.0</td>\n",
       "      <td>3.0</td>\n",
       "      <td>5.0</td>\n",
       "      <td>0.0</td>\n",
       "      <td>NaN</td>\n",
       "      <td>NaN</td>\n",
       "      <td>6:00 AM</td>\n",
       "      <td>Swift</td>\n",
       "      <td>Swift</td>\n",
       "      <td>iOS</td>\n",
       "      <td>Music</td>\n",
       "      <td>0.0</td>\n",
       "      <td>NaN</td>\n",
       "      <td>I have created a CV or Developer Story on Stack Overflow</td>\n",
       "      <td>9.0</td>\n",
       "      <td>Desktop; iOS app</td>\n",
       "      <td>4.0</td>\n",
       "      <td>1.0</td>\n",
       "      <td>2.0</td>\n",
       "      <td>1.0</td>\n",
       "      <td>1.0</td>\n",
       "      <td>5.0</td>\n",
       "      <td>5.0</td>\n",
       "      <td>2.0</td>\n",
       "      <td>3.0</td>\n",
       "      <td>1.0</td>\n",
       "      <td>Male</td>\n",
       "      <td>High school</td>\n",
       "      <td>White/European</td>\n",
       "      <td>0.0</td>\n",
       "      <td>None</td>\n",
       "      <td>Others</td>\n",
       "      <td>0.0</td>\n",
       "      <td>0.0</td>\n",
       "      <td>0.0</td>\n",
       "      <td>0.0</td>\n",
       "      <td>0.0</td>\n",
       "      <td>0.0</td>\n",
       "      <td>0.0</td>\n",
       "      <td>0.0</td>\n",
       "      <td>0.0</td>\n",
       "      <td>0.0</td>\n",
       "      <td>2.0</td>\n",
       "      <td>0.0</td>\n",
       "      <td>1.0</td>\n",
       "      <td>1.0</td>\n",
       "      <td>0.0</td>\n",
       "      <td>0.0</td>\n",
       "      <td>0.0</td>\n",
       "      <td>0.0</td>\n",
       "      <td>0.0</td>\n",
       "      <td>0.0</td>\n",
       "      <td>2.0</td>\n",
       "    </tr>\n",
       "  </tbody>\n",
       "</table>\n",
       "</div>"
      ],
      "text/plain": [
       "   Respondent Professional        Country University       EmploymentStatus  \\\n",
       "0  1           Student      United States  0          NotEmployedNotLooking   \n",
       "\n",
       "    FormalEducation  MajorUndergrad  HomeRemote CompanySize CompanyType  \\\n",
       "0  Secondary school  0               0           0           0            \n",
       "\n",
       "   YearsProgram  YearsCodedJob NonDeveloperType  CareerSatisfaction  \\\n",
       "0  3.0           0.0            NaN              0.0                  \n",
       "\n",
       "   JobSatisfaction  ProblemSolving  BuildingThings  LearningNewTech  \\\n",
       "0  0.0              5.0             5.0             4.0               \n",
       "\n",
       "   BoringDetails  JobSecurity  DiversityImportant  AnnoyingUI  \\\n",
       "0  2.0            5.0          4.0                 4.0          \n",
       "\n",
       "   FriendsDevelopers  RightWrongWay  UnderstandComputers  SeriousWork  \\\n",
       "0  2.0                3.0            2.0                  5.0           \n",
       "\n",
       "   InvestTimeTools  WorkPayCare  KinshipDevelopers  ChallengeMyself  \\\n",
       "0  5.0              1.0          4.0                4.0               \n",
       "\n",
       "   CompetePeers  ChangeWorld  JobSeekingStatus  HoursPerWeek  \\\n",
       "0  2.0           4.0          0.5               0.0            \n",
       "\n",
       "              LastNewJob  AssessJobIndustry  AssessJobRole  AssessJobExp  \\\n",
       "0  Not applicable/ never  5.0                5.0            4.0            \n",
       "\n",
       "   AssessJobDept  AssessJobTech  AssessJobProjects  AssessJobCompensation  \\\n",
       "0  5.0            5.0            5.0                4.0                     \n",
       "\n",
       "   AssessJobOffice  AssessJobCommute  AssessJobRemote  AssessJobLeaders  \\\n",
       "0  5.0              5.0               5.0              5.0                \n",
       "\n",
       "   AssessJobProfDevel  AssessJobDiversity  AssessJobProduct  \\\n",
       "0  5.0                 3.0                 2.0                \n",
       "\n",
       "   AssessJobFinances                                 ImportantBenefits  \\\n",
       "0  3.0                Stock options; Vacation/days off; Remote options   \n",
       "\n",
       "  JobProfile ResumePrompted LearnedHiring  ImportantHiringAlgorithms  \\\n",
       "0  Other      NaN            nan           4.0                         \n",
       "\n",
       "   ImportantHiringTechExp  ImportantHiringCommunication  \\\n",
       "0  4.0                     4.0                            \n",
       "\n",
       "   ImportantHiringOpenSource  ImportantHiringPMExp  ImportantHiringCompanies  \\\n",
       "0  3.0                        4.0                   2.0                        \n",
       "\n",
       "   ImportantHiringTitles  ImportantHiringEducation  ImportantHiringRep  \\\n",
       "0  2.0                    1.0                       3.0                  \n",
       "\n",
       "   ImportantHiringGettingThingsDone  EducationImportant SelfTaughtTypes  \\\n",
       "0  5.0                               0.0                 NaN              \n",
       "\n",
       "  CousinEducation WorkStart HaveWorkedLanguage WantWorkLanguage  \\\n",
       "0  NaN             6:00 AM   Swift              Swift             \n",
       "\n",
       "  HaveWorkedPlatform AuditoryEnvironment  CollaborateRemote MetricAssess  \\\n",
       "0  iOS                Music               0.0                NaN           \n",
       "\n",
       "                                     StackOverflowDescribes  \\\n",
       "0  I have created a CV or Developer Story on Stack Overflow   \n",
       "\n",
       "   StackOverflowSatisfaction StackOverflowDevices  StackOverflowFoundAnswer  \\\n",
       "0  9.0                        Desktop; iOS app     4.0                        \n",
       "\n",
       "   StackOverflowCopiedCode  StackOverflowJobListing  StackOverflowCompanyPage  \\\n",
       "0  1.0                      2.0                      1.0                        \n",
       "\n",
       "   StackOverflowJobSearch  StackOverflowNewQuestion  StackOverflowAnswer  \\\n",
       "0  1.0                     5.0                       5.0                   \n",
       "\n",
       "   StackOverflowMetaChat  StackOverflowAdsRelevant  \\\n",
       "0  2.0                    3.0                        \n",
       "\n",
       "   StackOverflowAdsDistracting Gender HighestEducationParents            Race  \\\n",
       "0  1.0                          Male   High school             White/European   \n",
       "\n",
       "   Salary DeveloperRole JobSearch_Source  JavaScript  Java  SQL  Python   C#  \\\n",
       "0  0.0     None          Others           0.0         0.0   0.0  0.0     0.0   \n",
       "\n",
       "   WantWork_JavaScript  WantWork_Python  WantWork_SQL  WantWork_Java  \\\n",
       "0  0.0                  0.0              0.0           0.0             \n",
       "\n",
       "   WantWork_C#  EducationNum  Edu_Self  Edu_Online  Edu_OpenSource  Edu_OTJ  \\\n",
       "0  0.0          2.0           0.0       1.0         1.0             0.0       \n",
       "\n",
       "   Edu_Hack  Edu_CodeComp  Edu_Parttime  Edu_Cert  Edu_BootC  \\\n",
       "0  0.0       0.0           0.0           0.0       0.0         \n",
       "\n",
       "   Parent_EducationNum  \n",
       "0  2.0                  "
      ]
     },
     "execution_count": 36,
     "metadata": {},
     "output_type": "execute_result"
    }
   ],
   "source": [
    "df.head(1)"
   ]
  },
  {
   "cell_type": "markdown",
   "metadata": {},
   "source": [
    "# General data visualizations"
   ]
  },
  {
   "cell_type": "markdown",
   "metadata": {},
   "source": [
    "## 1. Top countries by number of  respondents"
   ]
  },
  {
   "cell_type": "code",
   "execution_count": 37,
   "metadata": {},
   "outputs": [],
   "source": [
    "df_country = df.groupby('Country').size().sort_values(ascending=False).nlargest(10)"
   ]
  },
  {
   "cell_type": "code",
   "execution_count": 38,
   "metadata": {},
   "outputs": [
    {
     "data": {
      "text/plain": [
       "<matplotlib.axes._subplots.AxesSubplot at 0x1a24b428d0>"
      ]
     },
     "execution_count": 38,
     "metadata": {},
     "output_type": "execute_result"
    },
    {
     "data": {
      "image/png": "[encoded data removed]",
      "text/plain": [
       "<Figure size 720x504 with 1 Axes>"
      ]
     },
     "metadata": {},
     "output_type": "display_data"
    }
   ],
   "source": [
    "df_country.plot(y=df_country.index, x= df_country.values, kind='bar',figsize=(10,7))"
   ]
  },
  {
   "cell_type": "markdown",
   "metadata": {},
   "source": [
    "## 2. Proportion of Male and Female Respondents "
   ]
  },
  {
   "cell_type": "code",
   "execution_count": 39,
   "metadata": {},
   "outputs": [
    {
     "data": {
      "text/html": [
       "<iframe id=\"igraph\" scrolling=\"no\" style=\"border:none;\" seamless=\"seamless\" src=\"https://plot.ly/~shrutitrivedi/18.embed\" height=\"525px\" width=\"100%\"></iframe>"
      ],
      "text/plain": [
       "<plotly.tools.PlotlyDisplay object>"
      ]
     },
     "execution_count": 39,
     "metadata": {},
     "output_type": "execute_result"
    }
   ],
   "source": [
    "import plotly.plotly as py\n",
    "import plotly.graph_objs as go\n",
    "\n",
    "male_count = len(df[df.Gender=='Male'])\n",
    "female_count = len(df[df.Gender=='Female'])\n",
    "trace = go.Pie(labels=['Male','Female'], values=[male_count,female_count])\n",
    "py.iplot([trace], filename='basic_pie_chart')"
   ]
  },
  {
   "cell_type": "markdown",
   "metadata": {},
   "source": [
    "## 3. Respondents by Developer Role"
   ]
  },
  {
   "cell_type": "code",
   "execution_count": 40,
   "metadata": {},
   "outputs": [],
   "source": [
    "df_dev = df[(df.DeveloperRole != 'None') & (df.DeveloperRole != 'Other')].groupby('DeveloperRole').size().sort_values(ascending=False)"
   ]
  },
  {
   "cell_type": "code",
   "execution_count": 41,
   "metadata": {},
   "outputs": [
    {
     "data": {
      "text/plain": [
       "<matplotlib.axes._subplots.AxesSubplot at 0x1a1a8d4550>"
      ]
     },
     "execution_count": 41,
     "metadata": {},
     "output_type": "execute_result"
    },
    {
     "data": {
      "image/png": "[encoded data removed]",
      "text/plain": [
       "<Figure size 576x576 with 1 Axes>"
      ]
     },
     "metadata": {},
     "output_type": "display_data"
    }
   ],
   "source": [
    "df_dev.plot(y=df_dev.index, x= df_dev.values, kind='bar',figsize=(8,8) )"
   ]
  },
  {
   "cell_type": "markdown",
   "metadata": {},
   "source": [
    "## 4. Years of Programming Experience by Gender"
   ]
  },
  {
   "cell_type": "code",
   "execution_count": 42,
   "metadata": {},
   "outputs": [],
   "source": [
    "df['years_exp_age_bins'] = pd.cut(df['YearsProgram'],bins=[0,5,10,15,20])\n",
    "df_age_gen = df[(df.Gender != 'Other')].groupby(['years_exp_age_bins','Gender'])['Respondent'].count().reset_index()\n",
    "df_age_gen_male =  df_age_gen[df_age_gen.Gender=='Male']\n",
    "df_age_gen_female =  df_age_gen[df_age_gen.Gender=='Female']"
   ]
  },
  {
   "cell_type": "code",
   "execution_count": 43,
   "metadata": {},
   "outputs": [
    {
     "data": {
      "text/html": [
       "<iframe id=\"igraph\" scrolling=\"no\" style=\"border:none;\" seamless=\"seamless\" src=\"https://plot.ly/~shrutitrivedi/32.embed\" height=\"525px\" width=\"100%\"></iframe>"
      ],
      "text/plain": [
       "<plotly.tools.PlotlyDisplay object>"
      ]
     },
     "execution_count": 43,
     "metadata": {},
     "output_type": "execute_result"
    }
   ],
   "source": [
    "fig = {\n",
    "  \"data\": [\n",
    "    {\n",
    "      \"values\": df_age_gen_male.Respondent.values,\n",
    "      \"labels\": [\n",
    "        \"(0,5)\",\n",
    "        \"(5,10)\",\n",
    "        \"(10,15)\",\n",
    "        \"(15,20)\",\n",
    "        ],\n",
    "      \"domain\": {\"x\": [0, .48]},\n",
    "      \"name\": \"Male with Years_Exp\",\n",
    "      \"hoverinfo\":\"label+percent+name\",\n",
    "      \"hole\": .4,\n",
    "      \"type\": \"pie\"\n",
    "    },\n",
    "    {\n",
    "      \"values\": df_age_gen_female.Respondent.values,\n",
    "      \"labels\": [\n",
    "        \"(0,5)\",\n",
    "        \"(5,10)\",\n",
    "        \"(10,15)\",\n",
    "        \"(15,20)\",\n",
    "        ],\n",
    "      #\"text\":[\"Female with Years_Exp\"],\n",
    "      \"textposition\":\"inside\",\n",
    "      \"domain\": {\"x\": [.52, 1]},\n",
    "      \"name\": \"Female with Years_Exp\",\n",
    "      \"hoverinfo\":\"label+percent+name\",\n",
    "      \"hole\": .4,\n",
    "      \"type\": \"pie\"\n",
    "    }],\n",
    "  \"layout\": {\n",
    "        \"title\":\"Years Exp with Gender\",\n",
    "        \"annotations\": [\n",
    "            {\n",
    "                \"font\": {\n",
    "                    \"size\": 20\n",
    "                },\n",
    "                \"showarrow\": False,\n",
    "                \"text\": \"Male\",\n",
    "                \"x\": 0.20,\n",
    "                \"y\": 0.5\n",
    "            },\n",
    "            {\n",
    "                \"font\": {\n",
    "                    \"size\": 20\n",
    "                },\n",
    "                \"showarrow\": False,\n",
    "                \"text\": \"Female\",\n",
    "                \"x\": 0.8,\n",
    "                \"y\": 0.5\n",
    "            }\n",
    "        ]\n",
    "    }\n",
    "}\n",
    "py.iplot(fig, filename='donut')"
   ]
  },
  {
   "cell_type": "markdown",
   "metadata": {},
   "source": [
    "<div class=\"alert alert-block alert-info\">\n",
    "# Trends and Insights"
   ]
  },
  {
   "cell_type": "markdown",
   "metadata": {},
   "source": [
    "## 1. Relationship between Self-learning (beyond formal education), Years of experience and Gender of respondents"
   ]
  },
  {
   "cell_type": "markdown",
   "metadata": {},
   "source": [
    "### Step 1: Select all the newly created columns on Self-learning, YearsProgram, Gender and other relevant columns"
   ]
  },
  {
   "cell_type": "code",
   "execution_count": 44,
   "metadata": {},
   "outputs": [],
   "source": [
    "df2 = df.loc[:,['YearsProgram','Edu_Self','Edu_Online','Edu_OpenSource','Edu_OTJ','Edu_Hack','Edu_CodeComp',\\\n",
    "                'Edu_Parttime','Edu_Cert','Edu_BootC','Gender','EducationNum','MajorUndergrad']]"
   ]
  },
  {
   "cell_type": "markdown",
   "metadata": {},
   "source": [
    "### Step 2: Create bins for years of experience"
   ]
  },
  {
   "cell_type": "code",
   "execution_count": 45,
   "metadata": {},
   "outputs": [],
   "source": [
    "df2['years_exp_age_bins'] = pd.cut(df2['YearsProgram'],bins=[0,5,10,15,20])"
   ]
  },
  {
   "cell_type": "markdown",
   "metadata": {},
   "source": [
    "### Step 3: Calculate the average for self-learning and each self learning mode for males and females across each experience bin"
   ]
  },
  {
   "cell_type": "code",
   "execution_count": 46,
   "metadata": {},
   "outputs": [],
   "source": [
    "gender_edu = df2[df2.Gender!='Other'].groupby(['years_exp_age_bins','Gender'])['Edu_Self','Edu_Online',\\\n",
    "'Edu_OpenSource','Edu_OTJ','Edu_Hack','Edu_CodeComp','Edu_Parttime','Edu_Cert','Edu_BootC'].mean().reset_index()\n",
    "\n",
    "gender_edu['x_axis'] =['0_to_5 Female','0_to_5 Male','5_to_10 Female','5_to_10 Male','10_to_15 Female',\\\n",
    "                       '10_to_15 Male','15_to_20 Female','15_to_20 Male']"
   ]
  },
  {
   "cell_type": "code",
   "execution_count": 47,
   "metadata": {},
   "outputs": [
    {
     "data": {
      "text/plain": [
       "<matplotlib.axes._subplots.AxesSubplot at 0x1a11254c88>"
      ]
     },
     "execution_count": 47,
     "metadata": {},
     "output_type": "execute_result"
    },
    {
     "data": {
      "text/plain": [
       "Text(0.5,0,'Years Experience & Gender')"
      ]
     },
     "execution_count": 47,
     "metadata": {},
     "output_type": "execute_result"
    },
    {
     "data": {
      "text/plain": [
       "Text(0,0.5,'Mean')"
      ]
     },
     "execution_count": 47,
     "metadata": {},
     "output_type": "execute_result"
    },
    {
     "data": {
      "image/png": "[encoded data removed]",
      "text/plain": [
       "<Figure size 1080x576 with 1 Axes>"
      ]
     },
     "metadata": {},
     "output_type": "display_data"
    }
   ],
   "source": [
    "gender_edu.plot(x='x_axis', y=['Edu_Online','Edu_OTJ','Edu_Hack'], kind='bar', figsize=(15,8),\\\n",
    "           title='Modes of Self-learning: Average by Gender and Years of Experience')\n",
    "\n",
    "plt.xlabel('Years Experience & Gender')\n",
    "plt.ylabel('Mean')"
   ]
  },
  {
   "cell_type": "markdown",
   "metadata": {},
   "source": [
    "<div class=\"alert alert-block alert-success\"> \n",
    "### Key Finding:  For each experience group, females use online learning platforms, on the job training and <i> participate in hackathons </i> much more as compared to males. \n"
   ]
  },
  {
   "cell_type": "markdown",
   "metadata": {},
   "source": [
    "### For ease of understanding above graph, we combined all the parameters by gender in the graph below :"
   ]
  },
  {
   "cell_type": "code",
   "execution_count": 48,
   "metadata": {},
   "outputs": [],
   "source": [
    "genderCombined_edu = df2[df2.Gender!='Other'].groupby(['Gender'])['Edu_Online',\\\n",
    "'Edu_OpenSource','Edu_OTJ','Edu_Hack','Edu_CodeComp','Edu_Parttime','Edu_Cert','Edu_BootC'].mean().reset_index()"
   ]
  },
  {
   "cell_type": "code",
   "execution_count": 49,
   "metadata": {},
   "outputs": [
    {
     "data": {
      "text/plain": [
       "<matplotlib.axes._subplots.AxesSubplot at 0x1a11222eb8>"
      ]
     },
     "execution_count": 49,
     "metadata": {},
     "output_type": "execute_result"
    },
    {
     "data": {
      "text/plain": [
       "Text(0,0.5,'Mean')"
      ]
     },
     "execution_count": 49,
     "metadata": {},
     "output_type": "execute_result"
    },
    {
     "data": {
      "image/png": "[encoded data removed]",
      "text/plain": [
       "<Figure size 576x432 with 1 Axes>"
      ]
     },
     "metadata": {},
     "output_type": "display_data"
    }
   ],
   "source": [
    "genderCombined_edu.plot(x='Gender', y=['Edu_Online','Edu_OTJ','Edu_Hack'], kind='bar', figsize=(8,6),\\\n",
    "           title='Modes of Self-learning by Gender')\n",
    "\n",
    "plt.ylabel('Mean')"
   ]
  },
  {
   "cell_type": "markdown",
   "metadata": {},
   "source": [
    "### Step 4: To corroborate the finding above, we calculated average rating of various job parameters that applicants assess when applying to potential jobs by Gender:"
   ]
  },
  {
   "cell_type": "code",
   "execution_count": 50,
   "metadata": {},
   "outputs": [],
   "source": [
    "df3 = df.copy()"
   ]
  },
  {
   "cell_type": "code",
   "execution_count": 51,
   "metadata": {
    "scrolled": true
   },
   "outputs": [],
   "source": [
    "plot_df3 = df3[(df3.Gender != 'Other')].groupby('Gender').agg({'HoursPerWeek':'mean','JobSecurity':'mean',\\\n",
    "                                                  'JobSatisfaction':'mean','AssessJobIndustry':'mean',\n",
    "                                                  'AssessJobRole':'mean',\\\n",
    "                   'AssessJobExp':'mean','AssessJobDept':'mean','AssessJobTech':'mean','AssessJobProjects':'mean',\\\n",
    "                    'AssessJobCompensation':'mean','AssessJobOffice':'mean','AssessJobCommute':'mean',\\\n",
    "                    'AssessJobRemote':'mean','AssessJobLeaders':'mean','AssessJobProfDevel':'mean',\\\n",
    "                   'AssessJobDiversity':'mean','AssessJobProduct':'mean','AssessJobFinances':'mean'}).reset_index()"
   ]
  },
  {
   "cell_type": "code",
   "execution_count": 52,
   "metadata": {},
   "outputs": [
    {
     "data": {
      "text/html": [
       "<div>\n",
       "<style scoped>\n",
       "    .dataframe tbody tr th:only-of-type {\n",
       "        vertical-align: middle;\n",
       "    }\n",
       "\n",
       "    .dataframe tbody tr th {\n",
       "        vertical-align: top;\n",
       "    }\n",
       "\n",
       "    .dataframe thead th {\n",
       "        text-align: right;\n",
       "    }\n",
       "</style>\n",
       "<table border=\"1\" class=\"dataframe\">\n",
       "  <thead>\n",
       "    <tr style=\"text-align: right;\">\n",
       "      <th></th>\n",
       "      <th>Gender</th>\n",
       "      <th>HoursPerWeek</th>\n",
       "      <th>JobSecurity</th>\n",
       "      <th>JobSatisfaction</th>\n",
       "      <th>AssessJobIndustry</th>\n",
       "      <th>AssessJobRole</th>\n",
       "      <th>AssessJobExp</th>\n",
       "      <th>AssessJobDept</th>\n",
       "      <th>AssessJobTech</th>\n",
       "      <th>AssessJobProjects</th>\n",
       "      <th>AssessJobCompensation</th>\n",
       "      <th>AssessJobOffice</th>\n",
       "      <th>AssessJobCommute</th>\n",
       "      <th>AssessJobRemote</th>\n",
       "      <th>AssessJobLeaders</th>\n",
       "      <th>AssessJobProfDevel</th>\n",
       "      <th>AssessJobDiversity</th>\n",
       "      <th>AssessJobProduct</th>\n",
       "      <th>AssessJobFinances</th>\n",
       "    </tr>\n",
       "  </thead>\n",
       "  <tbody>\n",
       "    <tr>\n",
       "      <th>0</th>\n",
       "      <td>Female</td>\n",
       "      <td>1.907308</td>\n",
       "      <td>3.004231</td>\n",
       "      <td>5.682692</td>\n",
       "      <td>1.882692</td>\n",
       "      <td>1.936923</td>\n",
       "      <td>1.968846</td>\n",
       "      <td>1.987308</td>\n",
       "      <td>2.166154</td>\n",
       "      <td>2.086538</td>\n",
       "      <td>2.170769</td>\n",
       "      <td>2.185000</td>\n",
       "      <td>2.124615</td>\n",
       "      <td>1.863077</td>\n",
       "      <td>1.797308</td>\n",
       "      <td>2.298077</td>\n",
       "      <td>1.868462</td>\n",
       "      <td>1.857308</td>\n",
       "      <td>1.895769</td>\n",
       "    </tr>\n",
       "    <tr>\n",
       "      <th>1</th>\n",
       "      <td>Male</td>\n",
       "      <td>1.540568</td>\n",
       "      <td>2.744405</td>\n",
       "      <td>5.832948</td>\n",
       "      <td>1.807401</td>\n",
       "      <td>1.897401</td>\n",
       "      <td>1.921492</td>\n",
       "      <td>1.909462</td>\n",
       "      <td>2.162588</td>\n",
       "      <td>2.066321</td>\n",
       "      <td>2.207224</td>\n",
       "      <td>2.148279</td>\n",
       "      <td>2.108076</td>\n",
       "      <td>1.839533</td>\n",
       "      <td>1.746526</td>\n",
       "      <td>2.266865</td>\n",
       "      <td>1.567001</td>\n",
       "      <td>1.842002</td>\n",
       "      <td>1.887841</td>\n",
       "    </tr>\n",
       "  </tbody>\n",
       "</table>\n",
       "</div>"
      ],
      "text/plain": [
       "   Gender  HoursPerWeek  JobSecurity  JobSatisfaction  AssessJobIndustry  \\\n",
       "0  Female  1.907308      3.004231     5.682692         1.882692            \n",
       "1  Male    1.540568      2.744405     5.832948         1.807401            \n",
       "\n",
       "   AssessJobRole  AssessJobExp  AssessJobDept  AssessJobTech  \\\n",
       "0  1.936923       1.968846      1.987308       2.166154        \n",
       "1  1.897401       1.921492      1.909462       2.162588        \n",
       "\n",
       "   AssessJobProjects  AssessJobCompensation  AssessJobOffice  \\\n",
       "0  2.086538           2.170769               2.185000          \n",
       "1  2.066321           2.207224               2.148279          \n",
       "\n",
       "   AssessJobCommute  AssessJobRemote  AssessJobLeaders  AssessJobProfDevel  \\\n",
       "0  2.124615          1.863077         1.797308          2.298077             \n",
       "1  2.108076          1.839533         1.746526          2.266865             \n",
       "\n",
       "   AssessJobDiversity  AssessJobProduct  AssessJobFinances  \n",
       "0  1.868462            1.857308          1.895769           \n",
       "1  1.567001            1.842002          1.887841           "
      ]
     },
     "execution_count": 52,
     "metadata": {},
     "output_type": "execute_result"
    }
   ],
   "source": [
    "plot_df3"
   ]
  },
  {
   "cell_type": "code",
   "execution_count": 53,
   "metadata": {},
   "outputs": [
    {
     "data": {
      "text/html": [
       "<iframe id=\"igraph\" scrolling=\"no\" style=\"border:none;\" seamless=\"seamless\" src=\"https://plot.ly/~shrutitrivedi/30.embed\" height=\"525px\" width=\"100%\"></iframe>"
      ],
      "text/plain": [
       "<plotly.tools.PlotlyDisplay object>"
      ]
     },
     "execution_count": 53,
     "metadata": {},
     "output_type": "execute_result"
    }
   ],
   "source": [
    "trace2 = go.Bar(\n",
    "    x=['AssessJobIndustry','AssessJobRole','AssessJobDept','AssessJobProfDevel',\\\n",
    "                            'AssessJobLeaders','AssessJobProduct'],\n",
    "    y=[1.88, 1.93, 1.98, 2.29, 1.79, 1.85 ],\n",
    "    name='Female'\n",
    ")\n",
    "trace1 = go.Bar(\n",
    "    x=['AssessJobIndustry','AssessJobRole','AssessJobDept','AssessJobProfDevel',\\\n",
    "                            'AssessJobLeaders','AssessJobProduct'],\n",
    "    y=[1.80, 1.89, 1.90, 2.26, 1.74, 1.84],\n",
    "    name='Male'\n",
    ")\n",
    "\n",
    "data = [trace1, trace2]\n",
    "layout = go.Layout(\n",
    "    barmode='group'\n",
    ")\n",
    "\n",
    "fig = go.Figure(data=data, layout=layout)\n",
    "py.iplot(fig, filename='grouped-bar')"
   ]
  },
  {
   "cell_type": "markdown",
   "metadata": {},
   "source": [
    "<div class=\"alert alert-block alert-success\"> \n",
    " <b>We found that females give more importance and consideration to the following  parameters than males ,\n",
    "<ul>\n",
    "    <li>the industry and specific role/ title they are apply to (AssessJobIndustry & AssessJobRole)    \n",
    "    <li>specific department and team they will be working on(AssessJobDept)  \n",
    "    <li>opportunities for professional development (AssessJobProfDevel)  \n",
    "    <li>Leaders they will be working with (AssessJobLeaders) \n",
    "    <li>impact of the product or service (AssessJobProduct)  </b>"
   ]
  },
  {
   "cell_type": "markdown",
   "metadata": {},
   "source": [
    "### Machine Learning for Self - learning and Years of Experience: Clustering Approach"
   ]
  },
  {
   "cell_type": "code",
   "execution_count": 54,
   "metadata": {},
   "outputs": [],
   "source": [
    "ML_df2 = pd.get_dummies(df2,columns=['Gender'])"
   ]
  },
  {
   "cell_type": "code",
   "execution_count": 55,
   "metadata": {},
   "outputs": [],
   "source": [
    "ML_df2.drop(columns=['Gender_Other','years_exp_age_bins'], inplace=True)"
   ]
  },
  {
   "cell_type": "markdown",
   "metadata": {},
   "source": [
    "Using Clustering on above columns to find relevant relationships "
   ]
  },
  {
   "cell_type": "code",
   "execution_count": 56,
   "metadata": {},
   "outputs": [],
   "source": [
    "from sklearn.cluster import KMeans"
   ]
  },
  {
   "cell_type": "code",
   "execution_count": 57,
   "metadata": {},
   "outputs": [],
   "source": [
    "clu = KMeans(n_clusters=3, random_state=0)"
   ]
  },
  {
   "cell_type": "code",
   "execution_count": 58,
   "metadata": {},
   "outputs": [
    {
     "data": {
      "text/plain": [
       "KMeans(algorithm='auto', copy_x=True, init='k-means++', max_iter=300,\n",
       "    n_clusters=3, n_init=10, n_jobs=1, precompute_distances='auto',\n",
       "    random_state=0, tol=0.0001, verbose=0)"
      ]
     },
     "execution_count": 58,
     "metadata": {},
     "output_type": "execute_result"
    }
   ],
   "source": [
    "clu.fit(ML_df2)"
   ]
  },
  {
   "cell_type": "code",
   "execution_count": 59,
   "metadata": {},
   "outputs": [],
   "source": [
    "ML_df2['cluster']= clu.labels_"
   ]
  },
  {
   "cell_type": "code",
   "execution_count": 60,
   "metadata": {},
   "outputs": [
    {
     "data": {
      "text/html": [
       "<div>\n",
       "<style scoped>\n",
       "    .dataframe tbody tr th:only-of-type {\n",
       "        vertical-align: middle;\n",
       "    }\n",
       "\n",
       "    .dataframe tbody tr th {\n",
       "        vertical-align: top;\n",
       "    }\n",
       "\n",
       "    .dataframe thead th {\n",
       "        text-align: right;\n",
       "    }\n",
       "</style>\n",
       "<table border=\"1\" class=\"dataframe\">\n",
       "  <thead>\n",
       "    <tr style=\"text-align: right;\">\n",
       "      <th></th>\n",
       "      <th>YearsProgram</th>\n",
       "      <th>Edu_Self</th>\n",
       "      <th>Edu_Online</th>\n",
       "      <th>Edu_OpenSource</th>\n",
       "      <th>Edu_OTJ</th>\n",
       "      <th>Edu_Hack</th>\n",
       "      <th>Edu_CodeComp</th>\n",
       "      <th>Edu_Parttime</th>\n",
       "      <th>Edu_Cert</th>\n",
       "      <th>Edu_BootC</th>\n",
       "      <th>EducationNum</th>\n",
       "      <th>MajorUndergrad</th>\n",
       "      <th>Gender_Female</th>\n",
       "      <th>Gender_Male</th>\n",
       "    </tr>\n",
       "    <tr>\n",
       "      <th>cluster</th>\n",
       "      <th></th>\n",
       "      <th></th>\n",
       "      <th></th>\n",
       "      <th></th>\n",
       "      <th></th>\n",
       "      <th></th>\n",
       "      <th></th>\n",
       "      <th></th>\n",
       "      <th></th>\n",
       "      <th></th>\n",
       "      <th></th>\n",
       "      <th></th>\n",
       "      <th></th>\n",
       "      <th></th>\n",
       "    </tr>\n",
       "  </thead>\n",
       "  <tbody>\n",
       "    <tr>\n",
       "      <th>0</th>\n",
       "      <td>18.615686</td>\n",
       "      <td>0.626748</td>\n",
       "      <td>0.278230</td>\n",
       "      <td>0.303897</td>\n",
       "      <td>0.318812</td>\n",
       "      <td>0.141818</td>\n",
       "      <td>0.121310</td>\n",
       "      <td>0.108508</td>\n",
       "      <td>0.143248</td>\n",
       "      <td>0.064322</td>\n",
       "      <td>4.152321</td>\n",
       "      <td>0.666273</td>\n",
       "      <td>0.041141</td>\n",
       "      <td>0.726742</td>\n",
       "    </tr>\n",
       "    <tr>\n",
       "      <th>1</th>\n",
       "      <td>4.247174</td>\n",
       "      <td>0.441090</td>\n",
       "      <td>0.257375</td>\n",
       "      <td>0.144058</td>\n",
       "      <td>0.178155</td>\n",
       "      <td>0.123242</td>\n",
       "      <td>0.125540</td>\n",
       "      <td>0.082667</td>\n",
       "      <td>0.045630</td>\n",
       "      <td>0.052201</td>\n",
       "      <td>3.343994</td>\n",
       "      <td>0.548387</td>\n",
       "      <td>0.057669</td>\n",
       "      <td>0.507214</td>\n",
       "    </tr>\n",
       "    <tr>\n",
       "      <th>2</th>\n",
       "      <td>10.472930</td>\n",
       "      <td>0.564739</td>\n",
       "      <td>0.274319</td>\n",
       "      <td>0.236354</td>\n",
       "      <td>0.258586</td>\n",
       "      <td>0.161459</td>\n",
       "      <td>0.147648</td>\n",
       "      <td>0.081912</td>\n",
       "      <td>0.086712</td>\n",
       "      <td>0.041067</td>\n",
       "      <td>3.933082</td>\n",
       "      <td>0.723466</td>\n",
       "      <td>0.050447</td>\n",
       "      <td>0.654184</td>\n",
       "    </tr>\n",
       "  </tbody>\n",
       "</table>\n",
       "</div>"
      ],
      "text/plain": [
       "         YearsProgram  Edu_Self  Edu_Online  Edu_OpenSource   Edu_OTJ  \\\n",
       "cluster                                                                 \n",
       "0        18.615686     0.626748  0.278230    0.303897        0.318812   \n",
       "1        4.247174      0.441090  0.257375    0.144058        0.178155   \n",
       "2        10.472930     0.564739  0.274319    0.236354        0.258586   \n",
       "\n",
       "         Edu_Hack  Edu_CodeComp  Edu_Parttime  Edu_Cert  Edu_BootC  \\\n",
       "cluster                                                              \n",
       "0        0.141818  0.121310      0.108508      0.143248  0.064322    \n",
       "1        0.123242  0.125540      0.082667      0.045630  0.052201    \n",
       "2        0.161459  0.147648      0.081912      0.086712  0.041067    \n",
       "\n",
       "         EducationNum  MajorUndergrad  Gender_Female  Gender_Male  \n",
       "cluster                                                            \n",
       "0        4.152321      0.666273        0.041141       0.726742     \n",
       "1        3.343994      0.548387        0.057669       0.507214     \n",
       "2        3.933082      0.723466        0.050447       0.654184     "
      ]
     },
     "execution_count": 60,
     "metadata": {},
     "output_type": "execute_result"
    }
   ],
   "source": [
    "ML_df2.groupby('cluster').mean()"
   ]
  },
  {
   "cell_type": "markdown",
   "metadata": {},
   "source": [
    "<div class=\"alert alert-block alert-success\"> \n",
    "### Insight for Managers: \n",
    "The finding above illustrates that females give more importance to professional development opportunities and hence look for professional development both within their organization and are also more willing to undertake part-time training to enhance their skill set. This insight is useful for HR of organizations that they should create opportunities for women to learn in their current roles and also for managers to provide women with such opportunites so they are more satisfied with their role."
   ]
  },
  {
   "cell_type": "markdown",
   "metadata": {},
   "source": [
    "##  2: Relationship between Salary, Developer Type and Language Skills"
   ]
  },
  {
   "cell_type": "code",
   "execution_count": 61,
   "metadata": {},
   "outputs": [],
   "source": [
    "df8 = df.copy()"
   ]
  },
  {
   "cell_type": "markdown",
   "metadata": {},
   "source": [
    "### Step 1: Filtered respondents by Country == 'United States' and where the Salary was not null and selected relevant columns"
   ]
  },
  {
   "cell_type": "code",
   "execution_count": 62,
   "metadata": {},
   "outputs": [],
   "source": [
    "df8 = df8.loc[(df8.Country== 'United States') & (df8.Salary != 0),['YearsProgram','Gender','Race','Salary',\\\n",
    "                                                                   'EducationNum','JavaScript','Java','SQL',\\\n",
    "                                                                   'Python','C#','DeveloperRole','Edu_Self']]"
   ]
  },
  {
   "cell_type": "markdown",
   "metadata": {},
   "source": [
    "### Step 2: Identified developer roles with average salaries  > 100K"
   ]
  },
  {
   "cell_type": "code",
   "execution_count": 63,
   "metadata": {},
   "outputs": [],
   "source": [
    "topDevroles_salary = df8[(df8.DeveloperRole != 'None') & (df8.DeveloperRole != 'Other')].\\\n",
    "groupby('DeveloperRole')['Salary'].mean().nlargest(4)"
   ]
  },
  {
   "cell_type": "markdown",
   "metadata": {},
   "source": [
    "### Step 3: Calculated average language skills of developers with the highest salaries "
   ]
  },
  {
   "cell_type": "code",
   "execution_count": 64,
   "metadata": {},
   "outputs": [],
   "source": [
    "topDevroles_langSkills = df8[(df8['DeveloperRole'].isin(topDevroles_salary.index))].groupby('DeveloperRole')\\\n",
    "['JavaScript','Java','SQL','Python','C#'].mean().reset_index()"
   ]
  },
  {
   "cell_type": "code",
   "execution_count": 65,
   "metadata": {},
   "outputs": [
    {
     "data": {
      "text/plain": [
       "<matplotlib.axes._subplots.AxesSubplot at 0x1a26ac0128>"
      ]
     },
     "execution_count": 65,
     "metadata": {},
     "output_type": "execute_result"
    },
    {
     "data": {
      "text/plain": [
       "Text(0.5,0,'Developer Roles with mean Salary > 100K')"
      ]
     },
     "execution_count": 65,
     "metadata": {},
     "output_type": "execute_result"
    },
    {
     "data": {
      "text/plain": [
       "Text(0,0.5,'Language Proficiency')"
      ]
     },
     "execution_count": 65,
     "metadata": {},
     "output_type": "execute_result"
    },
    {
     "data": {
      "image/png": "[encoded data removed]",
      "text/plain": [
       "<Figure size 720x504 with 1 Axes>"
      ]
     },
     "metadata": {},
     "output_type": "display_data"
    }
   ],
   "source": [
    "topDevroles_langSkills.plot(x='DeveloperRole', y=['JavaScript','Java','Python'],kind='bar', \\\n",
    "                            figsize=(10,7), title = 'Language Proficiency Among Developers with Salary > 100K')\n",
    "\n",
    "plt.xlabel('Developer Roles with mean Salary > 100K')\n",
    "plt.ylabel('Language Proficiency')"
   ]
  },
  {
   "cell_type": "markdown",
   "metadata": {},
   "source": [
    "<div class=\"alert alert-block alert-success\"> \n",
    "### Key Finding: Developers earning the highest salaries are working in the field of DataScience/ Machine Learning, DevOps, Embedded and Mobile applications and have higher proficiency in Python among all the language skills. \n"
   ]
  },
  {
   "cell_type": "markdown",
   "metadata": {},
   "source": [
    "### Step 4:  We tried to explore this by looking at the languages that users have stated they want to work on"
   ]
  },
  {
   "cell_type": "code",
   "execution_count": 66,
   "metadata": {},
   "outputs": [],
   "source": [
    "WantWork_lang = df[(df.Professional != 'None')].groupby('Professional')['WantWork_JavaScript','WantWork_Python',\\\n",
    "                                            'WantWork_SQL','WantWork_Java','WantWork_C#'].mean() * 100\n",
    "WantWork_lang.reset_index(inplace=True)"
   ]
  },
  {
   "cell_type": "code",
   "execution_count": 67,
   "metadata": {},
   "outputs": [
    {
     "data": {
      "text/plain": [
       "<matplotlib.axes._subplots.AxesSubplot at 0x1a14bed208>"
      ]
     },
     "execution_count": 67,
     "metadata": {},
     "output_type": "execute_result"
    },
    {
     "data": {
      "text/plain": [
       "Text(0.5,0,'Professional Status')"
      ]
     },
     "execution_count": 67,
     "metadata": {},
     "output_type": "execute_result"
    },
    {
     "data": {
      "text/plain": [
       "Text(0,0.5,'% of users ')"
      ]
     },
     "execution_count": 67,
     "metadata": {},
     "output_type": "execute_result"
    },
    {
     "data": {
      "image/png": "[encoded data removed]",
      "text/plain": [
       "<Figure size 720x504 with 1 Axes>"
      ]
     },
     "metadata": {},
     "output_type": "display_data"
    }
   ],
   "source": [
    "WantWork_lang.plot(x='Professional', y=['WantWork_JavaScript','WantWork_Python',\\\n",
    "                                            'WantWork_Java'],kind='bar', figsize=(10,7),\\\n",
    "                  title ='Want to Learn Languages')\n",
    "plt.xlabel('Professional Status')\n",
    "plt.ylabel('% of users ')"
   ]
  },
  {
   "cell_type": "markdown",
   "metadata": {},
   "source": [
    "<div class=\"alert alert-block alert-success\"> \n",
    "### In the graph above, we see that Python is the second highest rated language after JavaScript, which users have stated they want to work on."
   ]
  },
  {
   "cell_type": "markdown",
   "metadata": {},
   "source": [
    "### Machine Learning : Clustering Approach "
   ]
  },
  {
   "cell_type": "code",
   "execution_count": 68,
   "metadata": {
    "scrolled": true
   },
   "outputs": [],
   "source": [
    "#Preparing Dataframe for Machine Learning\n",
    "ML_df8 = pd.get_dummies(df8,columns=['Gender','Race','DeveloperRole'])\n",
    "\n",
    "# Dropping irrelevant columns\n",
    "ML_df8.drop(columns=['Gender_Other','Race_Others','DeveloperRole_Graphic designer',\\\n",
    "                     'DeveloperRole_Graphics programming','DeveloperRole_None','DeveloperRole_Other',\\\n",
    "                    'DeveloperRole_Quality assurance engineer'],inplace=True)"
   ]
  },
  {
   "cell_type": "code",
   "execution_count": 69,
   "metadata": {},
   "outputs": [
    {
     "data": {
      "text/plain": [
       "KMeans(algorithm='auto', copy_x=True, init='k-means++', max_iter=300,\n",
       "    n_clusters=2, n_init=10, n_jobs=1, precompute_distances='auto',\n",
       "    random_state=0, tol=0.0001, verbose=0)"
      ]
     },
     "execution_count": 69,
     "metadata": {},
     "output_type": "execute_result"
    }
   ],
   "source": [
    "# Running cluster after identifying ideal number of clusters\n",
    "clu1 = KMeans(n_clusters=2, random_state=0)\n",
    "\n",
    "clu1.fit(ML_df8)"
   ]
  },
  {
   "cell_type": "code",
   "execution_count": 70,
   "metadata": {},
   "outputs": [],
   "source": [
    "ML_df8['cluster'] = clu1.labels_"
   ]
  },
  {
   "cell_type": "code",
   "execution_count": 71,
   "metadata": {},
   "outputs": [
    {
     "data": {
      "text/html": [
       "<div>\n",
       "<style scoped>\n",
       "    .dataframe tbody tr th:only-of-type {\n",
       "        vertical-align: middle;\n",
       "    }\n",
       "\n",
       "    .dataframe tbody tr th {\n",
       "        vertical-align: top;\n",
       "    }\n",
       "\n",
       "    .dataframe thead th {\n",
       "        text-align: right;\n",
       "    }\n",
       "</style>\n",
       "<table border=\"1\" class=\"dataframe\">\n",
       "  <thead>\n",
       "    <tr style=\"text-align: right;\">\n",
       "      <th></th>\n",
       "      <th>YearsProgram</th>\n",
       "      <th>Salary</th>\n",
       "      <th>EducationNum</th>\n",
       "      <th>JavaScript</th>\n",
       "      <th>Java</th>\n",
       "      <th>SQL</th>\n",
       "      <th>Python</th>\n",
       "      <th>C#</th>\n",
       "      <th>Edu_Self</th>\n",
       "      <th>Gender_Female</th>\n",
       "      <th>Gender_Male</th>\n",
       "      <th>Race_African</th>\n",
       "      <th>Race_East Asian</th>\n",
       "      <th>Race_Hispanic</th>\n",
       "      <th>Race_Middle Eastern</th>\n",
       "      <th>Race_South Asian</th>\n",
       "      <th>Race_White/European</th>\n",
       "      <th>DeveloperRole_DS_ML_Dev</th>\n",
       "      <th>DeveloperRole_Desktop applications developer</th>\n",
       "      <th>DeveloperRole_DevOps_Dev</th>\n",
       "      <th>DeveloperRole_Embedded_Dev</th>\n",
       "      <th>DeveloperRole_Mobile developer</th>\n",
       "      <th>DeveloperRole_Web developer</th>\n",
       "    </tr>\n",
       "    <tr>\n",
       "      <th>cluster</th>\n",
       "      <th></th>\n",
       "      <th></th>\n",
       "      <th></th>\n",
       "      <th></th>\n",
       "      <th></th>\n",
       "      <th></th>\n",
       "      <th></th>\n",
       "      <th></th>\n",
       "      <th></th>\n",
       "      <th></th>\n",
       "      <th></th>\n",
       "      <th></th>\n",
       "      <th></th>\n",
       "      <th></th>\n",
       "      <th></th>\n",
       "      <th></th>\n",
       "      <th></th>\n",
       "      <th></th>\n",
       "      <th></th>\n",
       "      <th></th>\n",
       "      <th></th>\n",
       "      <th></th>\n",
       "      <th></th>\n",
       "    </tr>\n",
       "  </thead>\n",
       "  <tbody>\n",
       "    <tr>\n",
       "      <th>0</th>\n",
       "      <td>15.848065</td>\n",
       "      <td>127091.216638</td>\n",
       "      <td>4.131716</td>\n",
       "      <td>0.619295</td>\n",
       "      <td>0.122473</td>\n",
       "      <td>0.114385</td>\n",
       "      <td>0.134604</td>\n",
       "      <td>0.096476</td>\n",
       "      <td>0.699018</td>\n",
       "      <td>0.074523</td>\n",
       "      <td>0.820913</td>\n",
       "      <td>0.013865</td>\n",
       "      <td>0.030618</td>\n",
       "      <td>0.024263</td>\n",
       "      <td>0.005199</td>\n",
       "      <td>0.030618</td>\n",
       "      <td>0.722704</td>\n",
       "      <td>0.075101</td>\n",
       "      <td>0.045061</td>\n",
       "      <td>0.021953</td>\n",
       "      <td>0.041594</td>\n",
       "      <td>0.053726</td>\n",
       "      <td>0.694396</td>\n",
       "    </tr>\n",
       "    <tr>\n",
       "      <th>1</th>\n",
       "      <td>10.701951</td>\n",
       "      <td>70106.083549</td>\n",
       "      <td>3.871707</td>\n",
       "      <td>0.685366</td>\n",
       "      <td>0.093659</td>\n",
       "      <td>0.107317</td>\n",
       "      <td>0.096098</td>\n",
       "      <td>0.101463</td>\n",
       "      <td>0.650732</td>\n",
       "      <td>0.105366</td>\n",
       "      <td>0.795122</td>\n",
       "      <td>0.014634</td>\n",
       "      <td>0.018537</td>\n",
       "      <td>0.021463</td>\n",
       "      <td>0.006341</td>\n",
       "      <td>0.023902</td>\n",
       "      <td>0.746341</td>\n",
       "      <td>0.045366</td>\n",
       "      <td>0.064390</td>\n",
       "      <td>0.016585</td>\n",
       "      <td>0.037561</td>\n",
       "      <td>0.036585</td>\n",
       "      <td>0.761951</td>\n",
       "    </tr>\n",
       "  </tbody>\n",
       "</table>\n",
       "</div>"
      ],
      "text/plain": [
       "         YearsProgram         Salary  EducationNum  JavaScript      Java  \\\n",
       "cluster                                                                    \n",
       "0        15.848065     127091.216638  4.131716      0.619295    0.122473   \n",
       "1        10.701951     70106.083549   3.871707      0.685366    0.093659   \n",
       "\n",
       "              SQL    Python        C#  Edu_Self  Gender_Female  Gender_Male  \\\n",
       "cluster                                                                       \n",
       "0        0.114385  0.134604  0.096476  0.699018  0.074523       0.820913      \n",
       "1        0.107317  0.096098  0.101463  0.650732  0.105366       0.795122      \n",
       "\n",
       "         Race_African  Race_East Asian  Race_Hispanic  Race_Middle Eastern  \\\n",
       "cluster                                                                      \n",
       "0        0.013865      0.030618         0.024263       0.005199              \n",
       "1        0.014634      0.018537         0.021463       0.006341              \n",
       "\n",
       "         Race_South Asian  Race_White/European  DeveloperRole_DS_ML_Dev  \\\n",
       "cluster                                                                   \n",
       "0        0.030618          0.722704             0.075101                  \n",
       "1        0.023902          0.746341             0.045366                  \n",
       "\n",
       "         DeveloperRole_Desktop applications developer  \\\n",
       "cluster                                                 \n",
       "0        0.045061                                       \n",
       "1        0.064390                                       \n",
       "\n",
       "         DeveloperRole_DevOps_Dev  DeveloperRole_Embedded_Dev  \\\n",
       "cluster                                                         \n",
       "0        0.021953                  0.041594                     \n",
       "1        0.016585                  0.037561                     \n",
       "\n",
       "         DeveloperRole_Mobile developer  DeveloperRole_Web developer  \n",
       "cluster                                                               \n",
       "0        0.053726                        0.694396                     \n",
       "1        0.036585                        0.761951                     "
      ]
     },
     "execution_count": 71,
     "metadata": {},
     "output_type": "execute_result"
    }
   ],
   "source": [
    "ML_df8.groupby('cluster').mean()"
   ]
  },
  {
   "cell_type": "markdown",
   "metadata": {},
   "source": [
    "<div class=\"alert alert-block alert-success\"> \n",
    "### Insights for Managers: \n",
    "Since we know that the developer community engaged on Stackoverflow is wanting to learn Python and we also know that Python is among the most popular skills for top earning developers, Engagement Managers at stackoverflow can use this insight to attract relevant ads from companies that provide online courses/ trainings/ bootcamps in Python. They can showcase this finding to the target companies and improve their ad-clicks by showcasing relevant content on their website."
   ]
  },
  {
   "cell_type": "markdown",
   "metadata": {},
   "source": [
    "## 3: Compensation Benefits(other than Salary) and their relationship with Race and Country"
   ]
  },
  {
   "cell_type": "markdown",
   "metadata": {},
   "source": [
    "### Step 1: Selecting all relevant columns including Country, Race, Important Benefits & Years Program"
   ]
  },
  {
   "cell_type": "code",
   "execution_count": 72,
   "metadata": {},
   "outputs": [],
   "source": [
    "df6_c = df.loc[:,['Country','Race','ImportantBenefits','YearsProgram','EducationNum','Professional']]"
   ]
  },
  {
   "cell_type": "markdown",
   "metadata": {},
   "source": [
    "### Step 2: Cleaning 'Important Benefits' column"
   ]
  },
  {
   "cell_type": "code",
   "execution_count": 73,
   "metadata": {},
   "outputs": [],
   "source": [
    "df6_c['ImportantBenefits'] = df6_c['ImportantBenefits'].astype(str)\n",
    "\n",
    "df6_c['IB_Retirement'] = (df6_c.ImportantBenefits.str.contains('Retirement')) * 1.0\n",
    "df6_c['IB_Vac'] = (df6_c.ImportantBenefits.str.contains('Vacation')) * 1.0\n",
    "df6_c['IB_Health'] = (df6_c.ImportantBenefits.str.contains('Health')) * 1.0\n",
    "df6_c['IB_Work_hrs'] = (df6_c.ImportantBenefits.str.contains('work')) * 1.0\n",
    "df6_c['IB_Remote'] = (df6_c.ImportantBenefits.str.contains('Remote')) * 1.0\n",
    "df6_c['IB_Equipment'] = (df6_c.ImportantBenefits.str.contains('Equipment')) * 1.0\n",
    "df6_c['IB_Stock'] = (df6_c.ImportantBenefits.str.contains('Stock')) * 1.0\n",
    "\n",
    "\n",
    "df6_c.drop(columns='ImportantBenefits', inplace=True)"
   ]
  },
  {
   "cell_type": "markdown",
   "metadata": {},
   "source": [
    "### Step 3: Calculating the top 5 countries based on responses received "
   ]
  },
  {
   "cell_type": "code",
   "execution_count": 74,
   "metadata": {},
   "outputs": [],
   "source": [
    "Country_counts = df6_c.groupby(['Country']).size().nlargest(5)"
   ]
  },
  {
   "cell_type": "markdown",
   "metadata": {},
   "source": [
    "### Step 4: Calculating the top 5 Races based on responses received "
   ]
  },
  {
   "cell_type": "code",
   "execution_count": 75,
   "metadata": {},
   "outputs": [],
   "source": [
    "Race_counts = df6_c[df6_c.Race!='Others'].groupby(['Race']).size().nlargest(5)"
   ]
  },
  {
   "cell_type": "markdown",
   "metadata": {},
   "source": [
    "### Step 5: Average 'Important Benefits' grouped by Race"
   ]
  },
  {
   "cell_type": "code",
   "execution_count": 76,
   "metadata": {},
   "outputs": [],
   "source": [
    "race_IB = df6_c[(df6_c['Race'].isin(Race_counts.index))].groupby(['Race'])\\\n",
    "       ['IB_Vac','IB_Health','IB_Remote','IB_Equipment','IB_Retirement','IB_Stock'].mean().reset_index()"
   ]
  },
  {
   "cell_type": "code",
   "execution_count": 77,
   "metadata": {},
   "outputs": [
    {
     "data": {
      "text/plain": [
       "<matplotlib.axes._subplots.AxesSubplot at 0x1a264672e8>"
      ]
     },
     "execution_count": 77,
     "metadata": {},
     "output_type": "execute_result"
    },
    {
     "data": {
      "text/plain": [
       "Text(0,0.5,'Mean/Average')"
      ]
     },
     "execution_count": 77,
     "metadata": {},
     "output_type": "execute_result"
    },
    {
     "data": {
      "image/png": "[encoded data removed]",
      "text/plain": [
       "<Figure size 720x576 with 1 Axes>"
      ]
     },
     "metadata": {},
     "output_type": "display_data"
    }
   ],
   "source": [
    "race_IB.plot(x='Race', y=['IB_Vac','IB_Health','IB_Remote'], \\\n",
    "                kind='bar', figsize=(10,8), title='Average Benefits by Race')\n",
    "\n",
    "plt.ylabel('Mean/Average')"
   ]
  },
  {
   "cell_type": "markdown",
   "metadata": {},
   "source": [
    "<div class=\"alert alert-block alert-success\"> \n",
    "### In the graph above, we see that respondents belonging to White/European race value vacation and remote work benefits much more than healthcare, whereas respondents from Hispanic and Middle Eastern races value health benefits more than vacation and remote work. In order to further delve into the reason for these differences, we have tried to determine which country do the respondents from each race primarily belong to..."
   ]
  },
  {
   "cell_type": "markdown",
   "metadata": {},
   "source": [
    "### Step 6: For each Race, calculate the number of respondents from the top 5 Countries "
   ]
  },
  {
   "cell_type": "code",
   "execution_count": 78,
   "metadata": {},
   "outputs": [],
   "source": [
    "df6_country_dum = df6_c.copy()\n",
    "df6_country_dum = pd.get_dummies(df6_country_dum,columns=['Country'])"
   ]
  },
  {
   "cell_type": "code",
   "execution_count": 79,
   "metadata": {},
   "outputs": [],
   "source": [
    "country_with_race = df6_country_dum[(df6_country_dum.Race!='Others') & (df6_country_dum.Race!='African')].groupby('Race')\\\n",
    "['Country_Germany','Country_Canada','Country_India','Country_United States','Country_United Kingdom'].mean()*100"
   ]
  },
  {
   "cell_type": "code",
   "execution_count": 80,
   "metadata": {},
   "outputs": [],
   "source": [
    "country_with_race.reset_index(inplace=True)"
   ]
  },
  {
   "cell_type": "code",
   "execution_count": 81,
   "metadata": {},
   "outputs": [
    {
     "data": {
      "text/plain": [
       "<matplotlib.axes._subplots.AxesSubplot at 0x1a263f9a20>"
      ]
     },
     "execution_count": 81,
     "metadata": {},
     "output_type": "execute_result"
    },
    {
     "data": {
      "text/plain": [
       "Text(0,0.5,'% Respondents')"
      ]
     },
     "execution_count": 81,
     "metadata": {},
     "output_type": "execute_result"
    },
    {
     "data": {
      "image/png": "[encoded data removed]",
      "text/plain": [
       "<Figure size 720x360 with 1 Axes>"
      ]
     },
     "metadata": {},
     "output_type": "display_data"
    }
   ],
   "source": [
    "country_with_race.plot(x='Race', y=['Country_India','Country_United States',\\\n",
    "                                    'Country_United Kingdom'],kind='bar', figsize=(10,5),\\\n",
    "                      title='Respondets from top 5 Countries for each Race')\n",
    "\n",
    "plt.ylabel('% Respondents')"
   ]
  },
  {
   "cell_type": "markdown",
   "metadata": {},
   "source": [
    "#### From the graph above we see that, respondents from the White/European, Hispanic and Middle Eastern races primarily belong to United States. Thus, despite working in the same country, with nearly similar facilities available, respondents still evaluate compensation benefits differently."
   ]
  },
  {
   "cell_type": "markdown",
   "metadata": {},
   "source": [
    "<div class=\"alert alert-block alert-success\"> \n",
    "### Key Finding: Race plays an important part in how respondents evaluate Compensation Benefits. Within United States, respondents belonging to White/European race value Vacation & Remote work much higher than Health care. Whereas, respondents belonging to Hispanic Race value Remote work & Health care more than White respondents. \n",
    "\n"
   ]
  },
  {
   "cell_type": "markdown",
   "metadata": {},
   "source": [
    "### Machine Learning: Decision Tree and Clustering Approach"
   ]
  },
  {
   "cell_type": "markdown",
   "metadata": {},
   "source": [
    "#### Preparing dataframe for Machine Learning by selecting top 5 Countries & top 5 Races from the dataset"
   ]
  },
  {
   "cell_type": "code",
   "execution_count": 82,
   "metadata": {},
   "outputs": [],
   "source": [
    "ML_df6 = df6_c.loc[(df6_c.Country.isin(Country_counts.index)) & (df6_c.Race.isin(Race_counts.index))]"
   ]
  },
  {
   "cell_type": "code",
   "execution_count": 83,
   "metadata": {},
   "outputs": [],
   "source": [
    "ML_df6 = pd.get_dummies(ML_df6,columns=['Country','Race','Professional'])"
   ]
  },
  {
   "cell_type": "code",
   "execution_count": 84,
   "metadata": {},
   "outputs": [
    {
     "data": {
      "text/plain": [
       "0"
      ]
     },
     "execution_count": 84,
     "metadata": {},
     "output_type": "execute_result"
    }
   ],
   "source": [
    "ML_df6.isna().any().sum()"
   ]
  },
  {
   "cell_type": "markdown",
   "metadata": {},
   "source": [
    "### Preparing X & Y variables with Y being Vacation benefit (1 is Yes, 0 is No)"
   ]
  },
  {
   "cell_type": "code",
   "execution_count": 85,
   "metadata": {},
   "outputs": [
    {
     "data": {
      "text/plain": [
       "0.0    8377\n",
       "1.0    7764\n",
       "Name: IB_Vac, dtype: int64"
      ]
     },
     "execution_count": 85,
     "metadata": {},
     "output_type": "execute_result"
    }
   ],
   "source": [
    "ML_df6.IB_Vac.value_counts()"
   ]
  },
  {
   "cell_type": "code",
   "execution_count": 86,
   "metadata": {},
   "outputs": [],
   "source": [
    "X = ML_df6.drop('IB_Vac',axis=1)"
   ]
  },
  {
   "cell_type": "code",
   "execution_count": 87,
   "metadata": {},
   "outputs": [],
   "source": [
    "Y = ML_df6.IB_Vac"
   ]
  },
  {
   "cell_type": "markdown",
   "metadata": {},
   "source": [
    "### Executing the Decision Tree to identify important variables"
   ]
  },
  {
   "cell_type": "code",
   "execution_count": 88,
   "metadata": {},
   "outputs": [],
   "source": [
    "dt = tree.DecisionTreeClassifier(max_depth=2)"
   ]
  },
  {
   "cell_type": "code",
   "execution_count": 89,
   "metadata": {},
   "outputs": [
    {
     "data": {
      "text/plain": [
       "DecisionTreeClassifier(class_weight=None, criterion='gini', max_depth=2,\n",
       "            max_features=None, max_leaf_nodes=None,\n",
       "            min_impurity_decrease=0.0, min_impurity_split=None,\n",
       "            min_samples_leaf=1, min_samples_split=2,\n",
       "            min_weight_fraction_leaf=0.0, presort=False, random_state=None,\n",
       "            splitter='best')"
      ]
     },
     "execution_count": 89,
     "metadata": {},
     "output_type": "execute_result"
    }
   ],
   "source": [
    "dt.fit(X,Y)"
   ]
  },
  {
   "cell_type": "code",
   "execution_count": 90,
   "metadata": {},
   "outputs": [
    {
     "data": {
      "image/png": "[encoded data removed]",
      "text/plain": [
       "<IPython.core.display.Image object>"
      ]
     },
     "execution_count": 90,
     "metadata": {},
     "output_type": "execute_result"
    }
   ],
   "source": [
    "# This code will visualize a decision tree dt, trained with the attributes in X and the class labels in Y\n",
    "dt_feature_names = list(X.columns)\n",
    "dt_target_names = [str(s) for s in Y.unique()]\n",
    "tree.export_graphviz(dt, out_file='tree.dot', \n",
    "    feature_names=dt_feature_names, class_names=dt_target_names,\n",
    "    filled=True)  \n",
    "graph = pydotplus.graph_from_dot_file('tree.dot')\n",
    "Image(graph.create_png())"
   ]
  },
  {
   "cell_type": "markdown",
   "metadata": {},
   "source": [
    "### Using Clustering approach to identify the races which value Vacation benefits more"
   ]
  },
  {
   "cell_type": "code",
   "execution_count": 91,
   "metadata": {},
   "outputs": [
    {
     "data": {
      "text/plain": [
       "KMeans(algorithm='auto', copy_x=True, init='k-means++', max_iter=300,\n",
       "    n_clusters=2, n_init=10, n_jobs=1, precompute_distances='auto',\n",
       "    random_state=0, tol=0.0001, verbose=0)"
      ]
     },
     "execution_count": 91,
     "metadata": {},
     "output_type": "execute_result"
    }
   ],
   "source": [
    "from sklearn.cluster import KMeans\n",
    "\n",
    "clu6 = KMeans(n_clusters=2, random_state=0)\n",
    "clu6.fit(ML_df6)"
   ]
  },
  {
   "cell_type": "code",
   "execution_count": 92,
   "metadata": {},
   "outputs": [],
   "source": [
    "ML_df6['cluster']= clu6.labels_"
   ]
  },
  {
   "cell_type": "code",
   "execution_count": 93,
   "metadata": {},
   "outputs": [
    {
     "data": {
      "text/html": [
       "<div>\n",
       "<style scoped>\n",
       "    .dataframe tbody tr th:only-of-type {\n",
       "        vertical-align: middle;\n",
       "    }\n",
       "\n",
       "    .dataframe tbody tr th {\n",
       "        vertical-align: top;\n",
       "    }\n",
       "\n",
       "    .dataframe thead th {\n",
       "        text-align: right;\n",
       "    }\n",
       "</style>\n",
       "<table border=\"1\" class=\"dataframe\">\n",
       "  <thead>\n",
       "    <tr style=\"text-align: right;\">\n",
       "      <th></th>\n",
       "      <th>YearsProgram</th>\n",
       "      <th>EducationNum</th>\n",
       "      <th>IB_Retirement</th>\n",
       "      <th>IB_Vac</th>\n",
       "      <th>IB_Health</th>\n",
       "      <th>IB_Work_hrs</th>\n",
       "      <th>IB_Remote</th>\n",
       "      <th>IB_Equipment</th>\n",
       "      <th>IB_Stock</th>\n",
       "      <th>Country_Canada</th>\n",
       "      <th>Country_Germany</th>\n",
       "      <th>Country_India</th>\n",
       "      <th>Country_United Kingdom</th>\n",
       "      <th>Country_United States</th>\n",
       "      <th>Race_East Asian</th>\n",
       "      <th>Race_Hispanic</th>\n",
       "      <th>Race_Middle Eastern</th>\n",
       "      <th>Race_South Asian</th>\n",
       "      <th>Race_White/European</th>\n",
       "      <th>Professional_Developer</th>\n",
       "      <th>Professional_Ex-Developer</th>\n",
       "      <th>Professional_Non-Developer</th>\n",
       "      <th>Professional_None</th>\n",
       "      <th>Professional_Student</th>\n",
       "    </tr>\n",
       "    <tr>\n",
       "      <th>cluster</th>\n",
       "      <th></th>\n",
       "      <th></th>\n",
       "      <th></th>\n",
       "      <th></th>\n",
       "      <th></th>\n",
       "      <th></th>\n",
       "      <th></th>\n",
       "      <th></th>\n",
       "      <th></th>\n",
       "      <th></th>\n",
       "      <th></th>\n",
       "      <th></th>\n",
       "      <th></th>\n",
       "      <th></th>\n",
       "      <th></th>\n",
       "      <th></th>\n",
       "      <th></th>\n",
       "      <th></th>\n",
       "      <th></th>\n",
       "      <th></th>\n",
       "      <th></th>\n",
       "      <th></th>\n",
       "      <th></th>\n",
       "      <th></th>\n",
       "    </tr>\n",
       "  </thead>\n",
       "  <tbody>\n",
       "    <tr>\n",
       "      <th>0</th>\n",
       "      <td>18.223737</td>\n",
       "      <td>4.129148</td>\n",
       "      <td>0.294644</td>\n",
       "      <td>0.496627</td>\n",
       "      <td>0.398183</td>\n",
       "      <td>0.389095</td>\n",
       "      <td>0.444444</td>\n",
       "      <td>0.307449</td>\n",
       "      <td>0.108495</td>\n",
       "      <td>0.087292</td>\n",
       "      <td>0.177200</td>\n",
       "      <td>0.027537</td>\n",
       "      <td>0.202396</td>\n",
       "      <td>0.505576</td>\n",
       "      <td>0.020515</td>\n",
       "      <td>0.014181</td>\n",
       "      <td>0.006333</td>\n",
       "      <td>0.047639</td>\n",
       "      <td>0.911331</td>\n",
       "      <td>0.859838</td>\n",
       "      <td>0.033182</td>\n",
       "      <td>0.087567</td>\n",
       "      <td>0.009913</td>\n",
       "      <td>0.009500</td>\n",
       "    </tr>\n",
       "    <tr>\n",
       "      <th>1</th>\n",
       "      <td>6.653751</td>\n",
       "      <td>3.586393</td>\n",
       "      <td>0.225163</td>\n",
       "      <td>0.468236</td>\n",
       "      <td>0.378013</td>\n",
       "      <td>0.359766</td>\n",
       "      <td>0.381505</td>\n",
       "      <td>0.310543</td>\n",
       "      <td>0.107344</td>\n",
       "      <td>0.086957</td>\n",
       "      <td>0.157806</td>\n",
       "      <td>0.167380</td>\n",
       "      <td>0.172787</td>\n",
       "      <td>0.415071</td>\n",
       "      <td>0.050574</td>\n",
       "      <td>0.019937</td>\n",
       "      <td>0.012728</td>\n",
       "      <td>0.179883</td>\n",
       "      <td>0.736878</td>\n",
       "      <td>0.672111</td>\n",
       "      <td>0.008448</td>\n",
       "      <td>0.101712</td>\n",
       "      <td>0.020275</td>\n",
       "      <td>0.197454</td>\n",
       "    </tr>\n",
       "  </tbody>\n",
       "</table>\n",
       "</div>"
      ],
      "text/plain": [
       "         YearsProgram  EducationNum  IB_Retirement    IB_Vac  IB_Health  \\\n",
       "cluster                                                                   \n",
       "0        18.223737     4.129148      0.294644       0.496627  0.398183    \n",
       "1        6.653751      3.586393      0.225163       0.468236  0.378013    \n",
       "\n",
       "         IB_Work_hrs  IB_Remote  IB_Equipment  IB_Stock  Country_Canada  \\\n",
       "cluster                                                                   \n",
       "0        0.389095     0.444444   0.307449      0.108495  0.087292         \n",
       "1        0.359766     0.381505   0.310543      0.107344  0.086957         \n",
       "\n",
       "         Country_Germany  Country_India  Country_United Kingdom  \\\n",
       "cluster                                                           \n",
       "0        0.177200         0.027537       0.202396                 \n",
       "1        0.157806         0.167380       0.172787                 \n",
       "\n",
       "         Country_United States  Race_East Asian  Race_Hispanic  \\\n",
       "cluster                                                          \n",
       "0        0.505576               0.020515         0.014181        \n",
       "1        0.415071               0.050574         0.019937        \n",
       "\n",
       "         Race_Middle Eastern  Race_South Asian  Race_White/European  \\\n",
       "cluster                                                               \n",
       "0        0.006333             0.047639          0.911331              \n",
       "1        0.012728             0.179883          0.736878              \n",
       "\n",
       "         Professional_Developer  Professional_Ex-Developer  \\\n",
       "cluster                                                      \n",
       "0        0.859838                0.033182                    \n",
       "1        0.672111                0.008448                    \n",
       "\n",
       "         Professional_Non-Developer  Professional_None  Professional_Student  \n",
       "cluster                                                                       \n",
       "0        0.087567                    0.009913           0.009500              \n",
       "1        0.101712                    0.020275           0.197454              "
      ]
     },
     "execution_count": 93,
     "metadata": {},
     "output_type": "execute_result"
    }
   ],
   "source": [
    "ML_df6.groupby('cluster').mean()"
   ]
  },
  {
   "cell_type": "markdown",
   "metadata": {},
   "source": [
    "<div class=\"alert alert-block alert-success\"> \n",
    "### Insight for Managers: \n",
    "From this insight we can conclude that Race plays an important role in how respondents assess the various Compensation benefits despite working in the same Country. Hence, while providing compensation benefits, HR from companies should not offer standard set of benefits & instead evaluate the preferences of employees and try to tailor the benefits to their needs to ensure employee satisfaction."
   ]
  }
 ],
 "metadata": {
  "kernelspec": {
   "display_name": "Python 3",
   "language": "python",
   "name": "python3"
  },
  "language_info": {
   "codemirror_mode": {
    "name": "ipython",
    "version": 3
   },
   "file_extension": ".py",
   "mimetype": "text/x-python",
   "name": "python",
   "nbconvert_exporter": "python",
   "pygments_lexer": "ipython3",
   "version": "3.6.5"
  }
 },
 "nbformat": 4,
 "nbformat_minor": 2
}
